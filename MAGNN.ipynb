{
  "cells": [
    {
      "cell_type": "markdown",
      "metadata": {
        "collapsed": false,
        "id": "IYmajohVWeeN"
      },
      "source": [
        "Hello! Here you can find how to implement GNN and how to use it for RecSys.\n",
        "We will recommend music to users\n",
        "using [MAGNN architecture](https://arxiv.org/pdf/2002.01680.pdf) and [LastFM dataset](https://pytorch-geometric.readthedocs.io/en/latest/generated/torch_geometric.datasets.LastFM.html).\n",
        "Specifically, the model will be used for \"link prediction\" task.\n",
        "\n",
        "First of all, let's import everything for the work."
      ]
    },
    {
      "cell_type": "code",
      "source": [
        "!pip install torch_geometric"
      ],
      "metadata": {
        "colab": {
          "base_uri": "https://localhost:8080/"
        },
        "id": "9-VisPLmWxxk",
        "outputId": "35a4d6ec-1006-4823-d5e0-c22a4a9d5417"
      },
      "execution_count": null,
      "outputs": [
        {
          "output_type": "stream",
          "name": "stdout",
          "text": [
            "Collecting torch_geometric\n",
            "  Downloading torch_geometric-2.4.0-py3-none-any.whl (1.0 MB)\n",
            "\u001b[2K     \u001b[90m━━━━━━━━━━━━━━━━━━━━━━━━━━━━━━━━━━━━━━━━\u001b[0m \u001b[32m1.0/1.0 MB\u001b[0m \u001b[31m4.6 MB/s\u001b[0m eta \u001b[36m0:00:00\u001b[0m\n",
            "\u001b[?25hRequirement already satisfied: tqdm in /usr/local/lib/python3.10/dist-packages (from torch_geometric) (4.66.1)\n",
            "Requirement already satisfied: numpy in /usr/local/lib/python3.10/dist-packages (from torch_geometric) (1.23.5)\n",
            "Requirement already satisfied: scipy in /usr/local/lib/python3.10/dist-packages (from torch_geometric) (1.11.4)\n",
            "Requirement already satisfied: jinja2 in /usr/local/lib/python3.10/dist-packages (from torch_geometric) (3.1.2)\n",
            "Requirement already satisfied: requests in /usr/local/lib/python3.10/dist-packages (from torch_geometric) (2.31.0)\n",
            "Requirement already satisfied: pyparsing in /usr/local/lib/python3.10/dist-packages (from torch_geometric) (3.1.1)\n",
            "Requirement already satisfied: scikit-learn in /usr/local/lib/python3.10/dist-packages (from torch_geometric) (1.2.2)\n",
            "Requirement already satisfied: psutil>=5.8.0 in /usr/local/lib/python3.10/dist-packages (from torch_geometric) (5.9.5)\n",
            "Requirement already satisfied: MarkupSafe>=2.0 in /usr/local/lib/python3.10/dist-packages (from jinja2->torch_geometric) (2.1.3)\n",
            "Requirement already satisfied: charset-normalizer<4,>=2 in /usr/local/lib/python3.10/dist-packages (from requests->torch_geometric) (3.3.2)\n",
            "Requirement already satisfied: idna<4,>=2.5 in /usr/local/lib/python3.10/dist-packages (from requests->torch_geometric) (3.6)\n",
            "Requirement already satisfied: urllib3<3,>=1.21.1 in /usr/local/lib/python3.10/dist-packages (from requests->torch_geometric) (2.0.7)\n",
            "Requirement already satisfied: certifi>=2017.4.17 in /usr/local/lib/python3.10/dist-packages (from requests->torch_geometric) (2023.11.17)\n",
            "Requirement already satisfied: joblib>=1.1.1 in /usr/local/lib/python3.10/dist-packages (from scikit-learn->torch_geometric) (1.3.2)\n",
            "Requirement already satisfied: threadpoolctl>=2.0.0 in /usr/local/lib/python3.10/dist-packages (from scikit-learn->torch_geometric) (3.2.0)\n",
            "Installing collected packages: torch_geometric\n",
            "Successfully installed torch_geometric-2.4.0\n"
          ]
        }
      ]
    },
    {
      "cell_type": "code",
      "execution_count": null,
      "metadata": {
        "ExecuteTime": {
          "end_time": "2023-12-12T15:27:37.761995300Z",
          "start_time": "2023-12-12T15:27:24.563945300Z"
        },
        "id": "R2L01VOuWeeS"
      },
      "outputs": [],
      "source": [
        "import matplotlib.pyplot as plt\n",
        "import networkx as nx\n",
        "import numpy as np\n",
        "import pandas as pd\n",
        "import pickle\n",
        "import requests\n",
        "import os\n",
        "\n",
        "import torch\n",
        "import torch.nn as nn\n",
        "import torch.nn.functional as F\n",
        "from torch.utils.data import Dataset, DataLoader\n",
        "from torch_geometric.datasets import LastFM\n",
        "\n",
        "from sklearn.metrics import average_precision_score, roc_auc_score\n",
        "from tqdm import tqdm\n",
        "\n",
        "from collections import defaultdict"
      ]
    },
    {
      "cell_type": "code",
      "execution_count": null,
      "metadata": {
        "ExecuteTime": {
          "end_time": "2023-12-12T15:27:37.786172300Z",
          "start_time": "2023-12-12T15:27:37.761995300Z"
        },
        "colab": {
          "base_uri": "https://localhost:8080/"
        },
        "id": "XeJXfmdiWeeU",
        "outputId": "92e8bdcb-c69d-444f-ea56-f2c7b2a151a8"
      },
      "outputs": [
        {
          "output_type": "execute_result",
          "data": {
            "text/plain": [
              "<torch._C.Generator at 0x7b4560db2a10>"
            ]
          },
          "metadata": {},
          "execution_count": 3
        }
      ],
      "source": [
        "np.random.seed(1337)\n",
        "torch.manual_seed(1337)"
      ]
    },
    {
      "cell_type": "code",
      "execution_count": null,
      "metadata": {
        "ExecuteTime": {
          "end_time": "2023-12-12T15:27:37.843692800Z",
          "start_time": "2023-12-12T15:27:37.777194400Z"
        },
        "id": "8u74gSBVWeeV"
      },
      "outputs": [],
      "source": [
        "NUM_USERS = 1892\n",
        "NUM_MOVIES = 17632\n",
        "BATCH_SIZE = 64\n",
        "\n",
        "num_user_features = 1\n",
        "num_movie_features = 1\n",
        "\n",
        "device = \"cuda\" if torch.cuda.is_available() else \"cpu\""
      ]
    },
    {
      "cell_type": "markdown",
      "metadata": {
        "collapsed": false,
        "id": "0K1oUgN6WeeV"
      },
      "source": [
        "Let's extract the dataset and create a new feature for the it. We should do it to increase the accuracy of the model in the future.\n",
        "The feature represents the similarity or closeness between the two users."
      ]
    },
    {
      "cell_type": "code",
      "source": [
        "# Loading features\n",
        "def download_features(url, destination):\n",
        "    if os.path.exists(destination):\n",
        "        print('File already exists')\n",
        "        return\n",
        "    id = url.split('/')[-2]\n",
        "    URL = \"https://docs.google.com/uc?export=download\"\n",
        "    session = requests.Session()\n",
        "    response = session.get(URL, params = { 'id' : id }, stream = True)\n",
        "    with open(destination, \"wb\") as f:\n",
        "        for chunk in response.iter_content(chunk_size = 32768):\n",
        "            if chunk:\n",
        "                f.write(chunk)\n",
        "\n",
        "download_features('https://drive.google.com/file/d/10vW6OqHvIau0thmkoq84BWdzSPBPwUjc/view?usp=sharing', 'artist_artist(knn).dat')\n",
        "download_features('https://drive.google.com/file/d/1lESwVMYH1tXHG5yW73DmVdiSmxRi_A5l/view?usp=sharing', 'user_user(knn).dat')"
      ],
      "metadata": {
        "id": "Z4vm1AvXSP25"
      },
      "execution_count": null,
      "outputs": []
    },
    {
      "cell_type": "code",
      "execution_count": null,
      "metadata": {
        "ExecuteTime": {
          "end_time": "2023-12-12T15:27:41.937638600Z",
          "start_time": "2023-12-12T15:27:37.828734Z"
        },
        "id": "3t4WVnwJWeeW"
      },
      "outputs": [],
      "source": [
        "# Loading initial dataset\n",
        "dataset = LastFM(\"data/raw/LastFM\")\n",
        "\n",
        "# Loading preprocessed data\n",
        "path = \"./data/raw/LastFM/raw/\"\n",
        "\n",
        "# Extract features from dataset\n",
        "user_sums = defaultdict(lambda: torch.tensor(0))\n",
        "user_counts = defaultdict(lambda: torch.tensor(0))\n",
        "with open(\"user_user(knn).dat\") as f:\n",
        "    for line in f:\n",
        "        u1, _, w = map(float, line.split())\n",
        "        u1 = int(u1)\n",
        "        user_sums[u1] = user_sums[u1] + w\n",
        "        user_counts[u1] += 1\n",
        "\n",
        "movie_sums = defaultdict(lambda: torch.tensor(0))\n",
        "movie_counts = defaultdict(lambda: torch.tensor(0))\n",
        "with open(\"artist_artist(knn).dat\") as f:\n",
        "    for line in f:\n",
        "        u1, _, w = map(float, line.split())\n",
        "        u1 = int(u1)\n",
        "        movie_sums[u1] = movie_sums[u1] + w\n",
        "        movie_counts[u1] += 1\n",
        "\n",
        "# Take average value\n",
        "user_features = {i: (user_sums[i] / user_counts[i]).clone().detach() for i in user_sums}\n",
        "movie_features = {i: (movie_sums[i] / movie_counts[i]).clone().detach() for i in movie_sums}\n",
        "\n",
        "user_features = defaultdict(lambda: torch.tensor(0), user_features)\n",
        "movie_features = defaultdict(lambda: torch.tensor(0), movie_features)\n"
      ]
    },
    {
      "cell_type": "code",
      "execution_count": null,
      "metadata": {
        "ExecuteTime": {
          "end_time": "2023-12-12T15:27:41.953726200Z",
          "start_time": "2023-12-12T15:27:41.940631300Z"
        },
        "id": "AfcyHlbbWeeW"
      },
      "outputs": [],
      "source": [
        "dataset = dataset[0]"
      ]
    },
    {
      "cell_type": "markdown",
      "metadata": {
        "collapsed": false,
        "id": "iCog_5muWeeX"
      },
      "source": [
        "Now we will preprocess data and then split it to train and validation sets."
      ]
    },
    {
      "cell_type": "code",
      "execution_count": null,
      "metadata": {
        "ExecuteTime": {
          "end_time": "2023-12-12T15:28:52.550996400Z",
          "start_time": "2023-12-12T15:27:57.080233600Z"
        },
        "colab": {
          "base_uri": "https://localhost:8080/"
        },
        "id": "e3BM50npWeeY",
        "outputId": "3a0bbc1d-6342-45a7-c4f1-0194b2c73c74"
      },
      "outputs": [
        {
          "output_type": "stream",
          "name": "stderr",
          "text": [
            "100%|██████████| 1892/1892 [00:32<00:00, 57.71it/s]\n"
          ]
        }
      ],
      "source": [
        "edge_index = dataset[\"user\", \"to\", \"artist\"][\"edge_index\"]\n",
        "train_movie_metapaths = defaultdict(lambda: np.zeros(shape=(0, 3)))\n",
        "for i in tqdm(edge_index[0].unique()):\n",
        "    neighbors = torch.where((edge_index[0] == i).clone().detach(), edge_index, -1)[1].unique()[1:]\n",
        "    comb = torch.combinations(neighbors, with_replacement=True)\n",
        "    col = torch.ones(size=(comb.shape[0], 1)) * i\n",
        "    meta_paths = torch.hstack((comb[:, :1], col, comb[:, 1:]))\n",
        "    for path in meta_paths:\n",
        "        train_movie_metapaths[int(path[0])] = np.vstack((train_movie_metapaths[int(path[0])], path))"
      ]
    },
    {
      "cell_type": "code",
      "execution_count": null,
      "metadata": {
        "ExecuteTime": {
          "end_time": "2023-12-12T15:28:59.111369700Z",
          "start_time": "2023-12-12T15:28:52.552991Z"
        },
        "colab": {
          "base_uri": "https://localhost:8080/"
        },
        "id": "mj-YjIH6WeeZ",
        "outputId": "937909c6-0b15-47c4-98cf-563d42c16876"
      },
      "outputs": [
        {
          "output_type": "stream",
          "name": "stderr",
          "text": [
            "100%|██████████| 1863/1863 [00:04<00:00, 465.42it/s]\n"
          ]
        }
      ],
      "source": [
        "edge_index = dataset[\"user\", \"to\", \"artist\"][\"test_pos_edge_index\"]\n",
        "test_movie_metapaths = defaultdict(lambda: np.zeros(shape=(0, 3)))\n",
        "for i in tqdm(edge_index[0].unique()):\n",
        "    neighbors = torch.where((edge_index[0] == i).clone().detach(), edge_index, -1)[1].unique()[1:]\n",
        "    comb = torch.combinations(neighbors, with_replacement=True)\n",
        "    col = torch.ones(size=(comb.shape[0], 1)) * i\n",
        "    meta_paths = torch.hstack((comb[:, :1], col, comb[:, 1:]))\n",
        "    for path in meta_paths:\n",
        "        test_movie_metapaths[int(path[0])] = np.vstack((test_movie_metapaths[int(path[0])], path))"
      ]
    },
    {
      "cell_type": "code",
      "execution_count": null,
      "metadata": {
        "ExecuteTime": {
          "end_time": "2023-12-12T15:30:27.845560100Z",
          "start_time": "2023-12-12T15:28:59.111369700Z"
        },
        "colab": {
          "base_uri": "https://localhost:8080/"
        },
        "id": "0rVi10RkWeeZ",
        "outputId": "79ec776e-23aa-494d-d248-91f46e52d213"
      },
      "outputs": [
        {
          "output_type": "stream",
          "name": "stderr",
          "text": [
            "100%|██████████| 17632/17632 [01:04<00:00, 274.61it/s]\n"
          ]
        }
      ],
      "source": [
        "edge_index = dataset[\"artist\", \"to\", \"user\"][\"edge_index\"]\n",
        "train_user_metapaths = defaultdict(lambda: np.zeros(shape=(0, 3)))\n",
        "for i in tqdm(edge_index[0].unique()):\n",
        "    neighbors = torch.where((edge_index[0] == i).clone().detach(), edge_index, -1)[1].unique()[1:]\n",
        "    comb = torch.combinations(neighbors, with_replacement=True)\n",
        "    col = torch.ones(size=(comb.shape[0], 1)) * i\n",
        "    meta_paths = torch.hstack((comb[:, :1], col, comb[:, 1:]))\n",
        "    for path in meta_paths:\n",
        "        train_user_metapaths[int(path[0])] = np.vstack((train_user_metapaths[int(path[0])], path))"
      ]
    },
    {
      "cell_type": "code",
      "execution_count": null,
      "metadata": {
        "ExecuteTime": {
          "end_time": "2023-12-12T15:30:38.930458100Z",
          "start_time": "2023-12-12T15:30:27.848552500Z"
        },
        "colab": {
          "base_uri": "https://localhost:8080/"
        },
        "id": "6xB3KIfkWeea",
        "outputId": "4612e8e6-8a0a-4998-f769-9123f132f327"
      },
      "outputs": [
        {
          "output_type": "stream",
          "name": "stderr",
          "text": [
            "100%|██████████| 4041/4041 [00:08<00:00, 484.35it/s] \n"
          ]
        }
      ],
      "source": [
        "edge_index = dataset[\"user\", \"to\", \"artist\"][\"test_pos_edge_index\"]\n",
        "test_user_metapaths = defaultdict(lambda: np.zeros(shape=(0, 3)))\n",
        "for i in tqdm(edge_index[1].unique()):\n",
        "    neighbors = torch.where((edge_index[1] == i).clone().detach(), edge_index, -1)[0].unique()[1:]\n",
        "    comb = torch.combinations(neighbors, with_replacement=True)\n",
        "    col = torch.ones(size=(comb.shape[0], 1)) * i\n",
        "    meta_paths = torch.hstack((comb[:, :1], col, comb[:, 1:]))\n",
        "    for path in meta_paths:\n",
        "        test_user_metapaths[int(path[0])] = np.vstack((test_user_metapaths[int(path[0])], path))"
      ]
    },
    {
      "cell_type": "code",
      "execution_count": null,
      "metadata": {
        "ExecuteTime": {
          "end_time": "2023-12-12T15:30:38.932452600Z",
          "start_time": "2023-12-12T15:30:38.915745100Z"
        },
        "id": "ShP0MPlGWeea"
      },
      "outputs": [],
      "source": [
        "neg_edge_index = dataset[\"user\", \"to\", \"artist\"][\"train_neg_edge_index\"]\n",
        "\n",
        "train_pos = dataset[\"user\", \"to\", \"artist\"][\"edge_index\"]\n",
        "train_neg = neg_edge_index[:, :train_pos.shape[1]]\n",
        "\n",
        "test_pos = dataset[\"user\", \"to\", \"artist\"][\"test_pos_edge_index\"]\n",
        "test_neg = dataset[\"user\", \"to\", \"artist\"][\"test_neg_edge_index\"][:, :test_pos.shape[1]]"
      ]
    },
    {
      "cell_type": "markdown",
      "metadata": {
        "collapsed": false,
        "id": "8ANb8R4JWeea"
      },
      "source": [
        "We also might need to do preprocess flow:"
      ]
    },
    {
      "cell_type": "code",
      "execution_count": null,
      "metadata": {
        "ExecuteTime": {
          "end_time": "2023-12-12T11:58:27.032884800Z",
          "start_time": "2023-12-12T11:58:27.011031100Z"
        },
        "id": "lquxuFcWWeea"
      },
      "outputs": [],
      "source": [
        "class UserMovieDataset(Dataset):\n",
        "    \"\"\"Dataset for MAGNN training and evaluation\"\"\"\n",
        "\n",
        "    def __init__(self, positives: torch.Tensor, user_meta_paths: defaultdict, movie_meta_paths: defaultdict,\n",
        "                 max_user_size: int, max_movie_size: int, negatives=None, benchmark: bool = False):\n",
        "        self.benchmark = benchmark\n",
        "        self.max_user_size = max_user_size\n",
        "        self.max_movie_size = max_movie_size\n",
        "\n",
        "        self.user_meta_paths = user_meta_paths.copy()\n",
        "        self.movie_meta_paths = movie_meta_paths.copy()\n",
        "        self.merge_meta_paths()\n",
        "\n",
        "        self.pos = positives.numpy()\n",
        "        self.neg = negatives.numpy()\n",
        "\n",
        "        self.data = torch.tensor(np.vstack([self.pos.T, self.neg.T]))\n",
        "        self.labels = torch.vstack([torch.ones((len(self.pos.T), 1)), torch.zeros((len(self.neg.T), 1))])\n",
        "\n",
        "    def merge_meta_paths(self):\n",
        "        for key, val in tqdm(self.user_meta_paths.items(), desc=\"Extracting user meta-paths\"):\n",
        "            if len(self.user_meta_paths[key]) > 0:\n",
        "                self.user_meta_paths[key] = [torch.vstack([user_features[i] for i in val[:, 0]])[:self.max_user_size],\n",
        "                                             torch.vstack([movie_features[i] for i in val[:, 1]])[:self.max_user_size],\n",
        "                                             torch.vstack([user_features[i] for i in val[:, 2]])[:self.max_user_size]]\n",
        "                while len(self.user_meta_paths[key][0]) < self.max_user_size:\n",
        "                    self.user_meta_paths[key][0] = torch.vstack(\n",
        "                        [self.user_meta_paths[key][0], torch.zeros_like(self.user_meta_paths[key][0][0])])\n",
        "                    self.user_meta_paths[key][1] = torch.vstack(\n",
        "                        [self.user_meta_paths[key][1], torch.zeros_like(self.user_meta_paths[key][1][0])])\n",
        "                    self.user_meta_paths[key][2] = torch.vstack(\n",
        "                        [self.user_meta_paths[key][2], torch.zeros_like(self.user_meta_paths[key][2][0])])\n",
        "\n",
        "        for key, val in tqdm(self.movie_meta_paths.items(), desc=\"Extracting movie meta-paths\"):\n",
        "            if len(self.movie_meta_paths[key]) > 0:\n",
        "                self.movie_meta_paths[key] = [\n",
        "                    torch.vstack([movie_features[i] for i in val[:, 0]])[:self.max_movie_size],\n",
        "                    torch.vstack([user_features[i] for i in val[:, 1]])[:self.max_movie_size],\n",
        "                    torch.vstack([movie_features[i] for i in val[:, 2]])[:self.max_movie_size]]\n",
        "                while len(self.movie_meta_paths[key][0]) < self.max_movie_size:\n",
        "                    self.movie_meta_paths[key][0] = torch.vstack(\n",
        "                        [self.movie_meta_paths[key][0], torch.zeros_like(self.movie_meta_paths[key][0][0])])\n",
        "                    self.movie_meta_paths[key][1] = torch.vstack(\n",
        "                        [self.movie_meta_paths[key][1], torch.zeros_like(self.movie_meta_paths[key][1][0])])\n",
        "                    self.movie_meta_paths[key][2] = torch.vstack(\n",
        "                        [self.movie_meta_paths[key][2], torch.zeros_like(self.movie_meta_paths[key][2][0])])\n",
        "\n",
        "    def __getitem__(self, idx):\n",
        "        user_id, movie_id = self.data[idx]\n",
        "\n",
        "        if len(self.user_meta_paths[user_id.item()]) == 0:\n",
        "            key = user_id.item()\n",
        "            self.user_meta_paths[key] = [torch.Tensor([0]), torch.Tensor([0]), torch.Tensor([0])]\n",
        "            while len(self.user_meta_paths[key][0]) < self.max_user_size:\n",
        "                self.user_meta_paths[key][0] = torch.vstack(\n",
        "                    [self.user_meta_paths[key][0], torch.zeros_like(self.user_meta_paths[key][0][0])])\n",
        "                self.user_meta_paths[key][1] = torch.vstack(\n",
        "                    [self.user_meta_paths[key][1], torch.zeros_like(self.user_meta_paths[key][1][0])])\n",
        "                self.user_meta_paths[key][2] = torch.vstack(\n",
        "                    [self.user_meta_paths[key][2], torch.zeros_like(self.user_meta_paths[key][2][0])])\n",
        "\n",
        "        if len(self.movie_meta_paths[movie_id.item()]) == 0:\n",
        "            key = movie_id.item()\n",
        "            self.movie_meta_paths[key] = [torch.Tensor([0]), torch.Tensor([0]), torch.Tensor([0])]\n",
        "            while len(self.movie_meta_paths[key][0]) < self.max_movie_size:\n",
        "                self.movie_meta_paths[key][0] = torch.vstack(\n",
        "                    [self.movie_meta_paths[key][0], torch.zeros_like(self.movie_meta_paths[key][0][0])])\n",
        "                self.movie_meta_paths[key][1] = torch.vstack(\n",
        "                    [self.movie_meta_paths[key][1], torch.zeros_like(self.movie_meta_paths[key][1][0])])\n",
        "                self.movie_meta_paths[key][2] = torch.vstack(\n",
        "                    [self.movie_meta_paths[key][2], torch.zeros_like(self.movie_meta_paths[key][2][0])])\n",
        "\n",
        "        return self.data[idx], self.labels[idx], *self.user_meta_paths[user_id.item()], *self.movie_meta_paths[\n",
        "            movie_id.item()]\n",
        "\n",
        "    def __len__(self):\n",
        "        return len(self.data)"
      ]
    },
    {
      "cell_type": "code",
      "execution_count": null,
      "metadata": {
        "ExecuteTime": {
          "end_time": "2023-12-12T12:00:11.192838200Z",
          "start_time": "2023-12-12T11:58:27.047659Z"
        },
        "colab": {
          "base_uri": "https://localhost:8080/"
        },
        "id": "hjZPI0c4Weeb",
        "outputId": "285077a3-4725-45eb-bdda-1724e4c7ba8f"
      },
      "outputs": [
        {
          "output_type": "stream",
          "name": "stdout",
          "text": [
            "Train Dataset:\n"
          ]
        },
        {
          "output_type": "stream",
          "name": "stderr",
          "text": [
            "Extracting user meta-paths: 100%|██████████| 1892/1892 [00:35<00:00, 52.74it/s]\n",
            "Extracting movie meta-paths: 100%|██████████| 17632/17632 [00:42<00:00, 417.96it/s]\n"
          ]
        },
        {
          "output_type": "stream",
          "name": "stdout",
          "text": [
            "Test Dataset:\n"
          ]
        },
        {
          "output_type": "stream",
          "name": "stderr",
          "text": [
            "Extracting user meta-paths: 100%|██████████| 1863/1863 [00:04<00:00, 403.70it/s]\n",
            "Extracting movie meta-paths: 100%|██████████| 4041/4041 [00:04<00:00, 912.84it/s] \n"
          ]
        }
      ],
      "source": [
        "print(\"Train Dataset:\")\n",
        "train_dataset = UserMovieDataset(train_pos, train_user_metapaths, train_movie_metapaths, 905, 67, train_neg)\n",
        "print(\"Test Dataset:\")\n",
        "test_dataset = UserMovieDataset(test_pos, test_user_metapaths, test_movie_metapaths, 131, 28, test_neg, benchmark=True)"
      ]
    },
    {
      "cell_type": "code",
      "execution_count": null,
      "metadata": {
        "ExecuteTime": {
          "end_time": "2023-12-12T12:00:11.225651700Z",
          "start_time": "2023-12-12T12:00:11.189996100Z"
        },
        "id": "97MsfmjPWeec"
      },
      "outputs": [],
      "source": [
        "train_loader = DataLoader(train_dataset, batch_size=BATCH_SIZE, shuffle=True)\n",
        "test_loader = DataLoader(test_dataset, batch_size=BATCH_SIZE, shuffle=True)"
      ]
    },
    {
      "cell_type": "markdown",
      "metadata": {
        "collapsed": false,
        "id": "9-EndOe0Weec"
      },
      "source": [
        "So let's implement our model.\n",
        "We will take a MAGNN for this data. It has many disadvantages:\n",
        "- it can learn from multiple graphs simultaneously;\n",
        "- it can model long-range dependencies that many common GNN cannot.\n",
        "\n",
        "But there is also a disadvantage of the model: it's computationally expensive when we use datasets with a large number of nodes and edges. You will see it a bit later.\n",
        "Let's look at the architecture closer.\n",
        "\n",
        "---\n",
        "\n",
        "## MAGNN workflow ##\n",
        "Specifically, MAGNN first applies type-specific linear transformations to project heterogeneous node attributes, with possibly unequal dimensions for different node\n",
        "types, to the same latent vector space. Next, MAGNN applies intra-metapath aggregation with the attention mechanism for every metapath.\n",
        "During this intrametapath aggregation, each target node extracts and combines information from the metapath instances connecting the node with its metapath-based neighbors.\n",
        "In this way, MAGNN captures the structural and semantic information of heterogeneous graphs from both neighbor nodes and the metapath context in between.\n",
        "Following intra-metapath aggregation, MAGNN further conducts intermetapath aggregation using the attention mechanism to fuse latent vectors obtained from\n",
        "multiple metapaths into final node embeddings. By integrating multiple metapaths, our model can learn the comprehensive semantics ingrained in the heterogeneous graph.\n",
        "\n",
        "MAGNN is constructed by three major components: node content transformation, intra-metapath aggregation, and inter-metapath aggregation.\n",
        "Here's an illustration of the embedding generation of a single node:\n",
        "![](images/workflow.png)"
      ]
    },
    {
      "cell_type": "code",
      "execution_count": null,
      "metadata": {
        "ExecuteTime": {
          "end_time": "2023-12-12T15:21:46.624233500Z",
          "start_time": "2023-12-12T15:21:46.606358200Z"
        },
        "id": "jy11_DLcWeec"
      },
      "outputs": [],
      "source": [
        "class GraphAttention(nn.Module):\n",
        "    \"\"\"Attention layer for encoded metapaths\"\"\"\n",
        "\n",
        "    def __init__(self, hidden_dim: int, num_heads: int, dropout: float):\n",
        "        super().__init__()\n",
        "        self.hidden_dim = hidden_dim\n",
        "        self.query = nn.Linear(hidden_dim, hidden_dim)\n",
        "        self.key = nn.Linear(hidden_dim, hidden_dim)\n",
        "        self.value = nn.Linear(hidden_dim, hidden_dim)\n",
        "        self.attention = nn.MultiheadAttention(hidden_dim, num_heads, dropout=dropout, batch_first=True)\n",
        "\n",
        "    def forward(self, x: torch.Tensor):\n",
        "        queries = self.query(x)\n",
        "        keys = self.key(x)\n",
        "        values = self.value(x)\n",
        "        weighted, _ = self.attention(queries, keys, values)\n",
        "        return weighted\n",
        "\n",
        "\n",
        "class MetapathEncoder(nn.Module):\n",
        "    \"\"\"Inter-metapath aggregator\"\"\"\n",
        "\n",
        "    def __init__(self, in_dim: int, out_dim: int):\n",
        "        super().__init__()\n",
        "        self.fc = nn.Linear(in_dim, out_dim)\n",
        "\n",
        "    def forward(self, metapath):\n",
        "        x = torch.mean(metapath, dim=1)\n",
        "        return self.fc(x)\n",
        "\n",
        "\n",
        "class MAGNN(nn.Module):\n",
        "    \"\"\"MAGNN architecture, but simplified for only 1 metapath per node type (due to computing powers limitation)\"\"\"\n",
        "\n",
        "    def __init__(self, num_user_features: int, num_movie_features: int, hidden_dim: int, out_dim: int, num_heads: int, dropout: float, batch_size: int):\n",
        "        super().__init__()\n",
        "        self.hidden_dim = hidden_dim\n",
        "        self.batch_size = batch_size\n",
        "\n",
        "        self.num_user_features = num_user_features\n",
        "        self.num_movie_features = num_movie_features\n",
        "\n",
        "        self.user_feature_encoder = nn.Linear(self.num_user_features, hidden_dim)\n",
        "        self.movie_feature_encoder = nn.Linear(self.num_movie_features, hidden_dim)\n",
        "\n",
        "        self.user_metapath_encoder = MetapathEncoder(hidden_dim, hidden_dim)\n",
        "        self.user_metapath_attention = GraphAttention(hidden_dim, num_heads, dropout)\n",
        "\n",
        "        self.movie_metapath_encoder = MetapathEncoder(hidden_dim, hidden_dim)\n",
        "        self.movie_metapath_attention = GraphAttention(hidden_dim, num_heads, dropout)\n",
        "\n",
        "        self.user_node_embedding = nn.Linear(hidden_dim, out_dim)\n",
        "        self.user_dropout = nn.Dropout(dropout)\n",
        "\n",
        "        self.movie_node_embedding = nn.Linear(hidden_dim, out_dim)\n",
        "        self.movie_dropout = nn.Dropout(dropout)\n",
        "\n",
        "        self.recommender = nn.Linear(2 * out_dim, 1)\n",
        "\n",
        "    def forward(self, _, user_metapaths1, user_metapaths2, user_metapaths3, movie_metapaths1, movie_metapaths2, movie_metapaths3):\n",
        "        \"\"\"\n",
        "        Forward propagation of the model.\n",
        "\n",
        "        You can find the pseudocode of the function in the paper that was mentioned in the beginning.\n",
        "        \"\"\"\n",
        "        user_metapath_instance = torch.cat([\n",
        "            self.user_feature_encoder(user_metapaths1),\n",
        "            self.movie_feature_encoder(user_metapaths2),\n",
        "            self.user_feature_encoder(user_metapaths3)\n",
        "        ], dim=1)\n",
        "        user_aggregated_metapath = F.tanh(self.user_metapath_encoder(user_metapath_instance))\n",
        "        user_aggregated_metapath = self.user_metapath_attention(user_aggregated_metapath)\n",
        "\n",
        "        movie_metapath_instance = torch.cat([\n",
        "            self.movie_feature_encoder(movie_metapaths1),\n",
        "            self.user_feature_encoder(movie_metapaths2),\n",
        "            self.movie_feature_encoder(movie_metapaths3)\n",
        "        ], dim=1)\n",
        "        movie_aggregated_metapath = F.tanh(self.movie_metapath_encoder(movie_metapath_instance))\n",
        "        movie_aggregated_metapath = self.movie_metapath_attention(movie_aggregated_metapath)\n",
        "\n",
        "        user_embed = self.user_dropout(F.sigmoid(self.user_node_embedding(user_aggregated_metapath)))\n",
        "        movie_embed = self.movie_dropout(F.sigmoid(self.movie_node_embedding(movie_aggregated_metapath)))\n",
        "\n",
        "        return F.sigmoid(self.recommender(torch.cat([user_embed, movie_embed], dim=1)))"
      ]
    },
    {
      "cell_type": "code",
      "execution_count": null,
      "metadata": {
        "ExecuteTime": {
          "end_time": "2023-12-12T12:00:11.337977400Z",
          "start_time": "2023-12-12T12:00:11.229642700Z"
        },
        "id": "zwBu6lE4Weec"
      },
      "outputs": [],
      "source": [
        "model = MAGNN(num_user_features, num_movie_features, 128, 128, 8, 0.2, BATCH_SIZE)"
      ]
    },
    {
      "cell_type": "markdown",
      "metadata": {
        "collapsed": false,
        "id": "kvf4AaAWWeed"
      },
      "source": [
        "To train the model we will use BCELoss and Adam optimizer. All settings you may see below."
      ]
    },
    {
      "cell_type": "code",
      "execution_count": null,
      "metadata": {
        "ExecuteTime": {
          "end_time": "2023-12-12T12:00:11.370888900Z",
          "start_time": "2023-12-12T12:00:11.271285800Z"
        },
        "id": "o8GLPJeSWeed"
      },
      "outputs": [],
      "source": [
        "criterion = nn.BCELoss()\n",
        "optimizer = torch.optim.Adam(model.parameters(), lr=2e-5, weight_decay=2e-7)"
      ]
    },
    {
      "cell_type": "code",
      "execution_count": null,
      "metadata": {
        "ExecuteTime": {
          "end_time": "2023-12-12T12:00:11.373880500Z",
          "start_time": "2023-12-12T12:00:11.275785600Z"
        },
        "id": "mcf61EHmWeed"
      },
      "outputs": [],
      "source": [
        "def train(epoch: int):\n",
        "    losses = []\n",
        "    accs = []\n",
        "\n",
        "    model.train()\n",
        "    progress_bar = tqdm(train_loader, f\"Epoch {epoch}\")\n",
        "    for batch in progress_bar:\n",
        "        edge, label, umetapath1, umetapath2, umetapath3, mmetapath1, mmetapath2, mmetapath3 = batch\n",
        "        edge, label, umetapath1, umetapath2, umetapath3, mmetapath1, mmetapath2, mmetapath3 = \\\n",
        "            edge.to(device), label.to(device), umetapath1.to(device), umetapath2.to(device), umetapath3.to(\n",
        "                device), mmetapath1.to(device), mmetapath2.to(device), mmetapath3.to(device)\n",
        "\n",
        "        optimizer.zero_grad()\n",
        "\n",
        "        out = model(edge, umetapath1, umetapath2, umetapath3, mmetapath1, mmetapath2, mmetapath3)\n",
        "\n",
        "        pred = (out > 0.5)\n",
        "\n",
        "        loss = criterion(out, label)\n",
        "        acc = (pred == label).sum() / BATCH_SIZE\n",
        "\n",
        "        losses.append(loss.item())\n",
        "        accs.append(acc.cpu())\n",
        "\n",
        "        loss.backward()\n",
        "        optimizer.step()\n",
        "\n",
        "        progress_bar.set_description(f\"Epoch {epoch}, Loss: {np.mean(losses):.5f}, Acc: {np.mean(accs):.5f}\")\n",
        "\n",
        "    return np.mean(losses)\n",
        "\n",
        "\n",
        "def validate(epoch: int):\n",
        "    losses = []\n",
        "    accs = []\n",
        "\n",
        "    model.eval()\n",
        "    progress_bar = tqdm(test_loader)\n",
        "    for batch in progress_bar:\n",
        "        edge, label, umetapath1, umetapath2, umetapath3, mmetapath1, mmetapath2, mmetapath3 = batch\n",
        "        edge, label, umetapath1, umetapath2, umetapath3, mmetapath1, mmetapath2, mmetapath3 = \\\n",
        "            edge.to(device), label.to(device), umetapath1.to(device), umetapath2.to(device), umetapath3.to(\n",
        "                device), mmetapath1.to(device), mmetapath2.to(device), mmetapath3.to(device)\n",
        "\n",
        "        out = model(edge, umetapath1, umetapath2, umetapath3, mmetapath1, mmetapath2, mmetapath3)\n",
        "\n",
        "        pred = (out > 0.5)\n",
        "\n",
        "        loss = criterion(out, label)\n",
        "        acc = (pred == label).sum() / BATCH_SIZE\n",
        "\n",
        "        losses.append(loss.item())\n",
        "        accs.append(acc.cpu())\n",
        "\n",
        "        progress_bar.set_description(f\"Validation Epoch {epoch}, Loss: {np.mean(losses):.5f}, Acc: {np.mean(accs):.5f}\")\n",
        "\n",
        "    return np.mean(losses)"
      ]
    },
    {
      "cell_type": "code",
      "execution_count": null,
      "metadata": {
        "ExecuteTime": {
          "end_time": "2023-12-12T12:00:11.375875100Z",
          "start_time": "2023-12-12T12:00:11.299568800Z"
        },
        "id": "0u52qVM2Weed"
      },
      "outputs": [],
      "source": [
        "torch.cuda.empty_cache()"
      ]
    },
    {
      "cell_type": "code",
      "execution_count": null,
      "metadata": {
        "ExecuteTime": {
          "end_time": "2023-12-12T12:35:52.405457900Z",
          "start_time": "2023-12-12T12:00:11.315039900Z"
        },
        "colab": {
          "base_uri": "https://localhost:8080/"
        },
        "id": "y2YnGT7RWeed",
        "outputId": "926c668b-9f80-453d-d9c3-a51b9caa711b"
      },
      "outputs": [
        {
          "output_type": "stream",
          "name": "stderr",
          "text": [
            "Epoch 0, Loss: 0.58626, Acc: 0.72625: 100%|██████████| 2031/2031 [00:41<00:00, 48.40it/s]\n",
            "Validation Epoch 0, Loss: 0.46512, Acc: 0.84378: 100%|██████████| 581/581 [00:05<00:00, 106.23it/s]\n"
          ]
        },
        {
          "output_type": "stream",
          "name": "stdout",
          "text": [
            "\n"
          ]
        },
        {
          "output_type": "stream",
          "name": "stderr",
          "text": [
            "Epoch 1, Loss: 0.58428, Acc: 0.72667: 100%|██████████| 2031/2031 [00:45<00:00, 44.98it/s]\n",
            "Validation Epoch 1, Loss: 0.46331, Acc: 0.84297: 100%|██████████| 581/581 [00:05<00:00, 112.41it/s]\n"
          ]
        },
        {
          "output_type": "stream",
          "name": "stdout",
          "text": [
            "\n"
          ]
        },
        {
          "output_type": "stream",
          "name": "stderr",
          "text": [
            "Epoch 2, Loss: 0.58313, Acc: 0.72678: 100%|██████████| 2031/2031 [00:41<00:00, 48.74it/s]\n",
            "Validation Epoch 2, Loss: 0.45473, Acc: 0.84526: 100%|██████████| 581/581 [00:06<00:00, 96.05it/s]\n"
          ]
        },
        {
          "output_type": "stream",
          "name": "stdout",
          "text": [
            "\n"
          ]
        },
        {
          "output_type": "stream",
          "name": "stderr",
          "text": [
            "Epoch 3, Loss: 0.58237, Acc: 0.72700: 100%|██████████| 2031/2031 [00:43<00:00, 47.15it/s]\n",
            "Validation Epoch 3, Loss: 0.46037, Acc: 0.84316: 100%|██████████| 581/581 [00:06<00:00, 92.56it/s]\n"
          ]
        },
        {
          "output_type": "stream",
          "name": "stdout",
          "text": [
            "\n"
          ]
        },
        {
          "output_type": "stream",
          "name": "stderr",
          "text": [
            "Epoch 4, Loss: 0.58125, Acc: 0.72720: 100%|██████████| 2031/2031 [00:44<00:00, 45.54it/s]\n",
            "Validation Epoch 4, Loss: 0.44880, Acc: 0.84515: 100%|██████████| 581/581 [00:05<00:00, 105.00it/s]\n"
          ]
        },
        {
          "output_type": "stream",
          "name": "stdout",
          "text": [
            "\n"
          ]
        },
        {
          "output_type": "stream",
          "name": "stderr",
          "text": [
            "Epoch 5, Loss: 0.58039, Acc: 0.72700: 100%|██████████| 2031/2031 [00:43<00:00, 47.16it/s]\n",
            "Validation Epoch 5, Loss: 0.44542, Acc: 0.84760: 100%|██████████| 581/581 [00:05<00:00, 106.93it/s]\n"
          ]
        },
        {
          "output_type": "stream",
          "name": "stdout",
          "text": [
            "\n"
          ]
        },
        {
          "output_type": "stream",
          "name": "stderr",
          "text": [
            "Epoch 6, Loss: 0.57873, Acc: 0.72697: 100%|██████████| 2031/2031 [00:41<00:00, 48.57it/s]\n",
            "Validation Epoch 6, Loss: 0.43663, Acc: 0.84703: 100%|██████████| 581/581 [00:06<00:00, 93.43it/s]\n"
          ]
        },
        {
          "output_type": "stream",
          "name": "stdout",
          "text": [
            "\n"
          ]
        },
        {
          "output_type": "stream",
          "name": "stderr",
          "text": [
            "Epoch 7, Loss: 0.57342, Acc: 0.72681: 100%|██████████| 2031/2031 [00:44<00:00, 45.19it/s]\n",
            "Validation Epoch 7, Loss: 0.42776, Acc: 0.84827: 100%|██████████| 581/581 [00:05<00:00, 109.21it/s]\n"
          ]
        },
        {
          "output_type": "stream",
          "name": "stdout",
          "text": [
            "\n"
          ]
        },
        {
          "output_type": "stream",
          "name": "stderr",
          "text": [
            "Epoch 8, Loss: 0.57053, Acc: 0.72697: 100%|██████████| 2031/2031 [00:42<00:00, 47.65it/s]\n",
            "Validation Epoch 8, Loss: 0.43921, Acc: 0.84442: 100%|██████████| 581/581 [00:05<00:00, 110.76it/s]\n"
          ]
        },
        {
          "output_type": "stream",
          "name": "stdout",
          "text": [
            "\n"
          ]
        },
        {
          "output_type": "stream",
          "name": "stderr",
          "text": [
            "Epoch 9, Loss: 0.56879, Acc: 0.72723: 100%|██████████| 2031/2031 [00:43<00:00, 46.95it/s]\n",
            "Validation Epoch 9, Loss: 0.42889, Acc: 0.84934: 100%|██████████| 581/581 [00:06<00:00, 95.53it/s]\n"
          ]
        },
        {
          "output_type": "stream",
          "name": "stdout",
          "text": [
            "\n"
          ]
        },
        {
          "output_type": "stream",
          "name": "stderr",
          "text": [
            "Epoch 10, Loss: 0.56737, Acc: 0.72770: 100%|██████████| 2031/2031 [00:41<00:00, 48.62it/s]\n",
            "Validation Epoch 10, Loss: 0.43261, Acc: 0.84907: 100%|██████████| 581/581 [00:05<00:00, 112.31it/s]\n"
          ]
        },
        {
          "output_type": "stream",
          "name": "stdout",
          "text": [
            "\n"
          ]
        },
        {
          "output_type": "stream",
          "name": "stderr",
          "text": [
            "Epoch 11, Loss: 0.56617, Acc: 0.72847: 100%|██████████| 2031/2031 [00:42<00:00, 47.63it/s]\n",
            "Validation Epoch 11, Loss: 0.43668, Acc: 0.84789: 100%|██████████| 581/581 [00:05<00:00, 111.28it/s]\n"
          ]
        },
        {
          "output_type": "stream",
          "name": "stdout",
          "text": [
            "\n"
          ]
        },
        {
          "output_type": "stream",
          "name": "stderr",
          "text": [
            "Epoch 12, Loss: 0.56525, Acc: 0.72841: 100%|██████████| 2031/2031 [00:41<00:00, 49.05it/s]\n",
            "Validation Epoch 12, Loss: 0.43511, Acc: 0.84851: 100%|██████████| 581/581 [00:06<00:00, 96.43it/s]\n"
          ]
        },
        {
          "output_type": "stream",
          "name": "stdout",
          "text": [
            "\n"
          ]
        },
        {
          "output_type": "stream",
          "name": "stderr",
          "text": [
            "Epoch 13, Loss: 0.56516, Acc: 0.72809: 100%|██████████| 2031/2031 [00:41<00:00, 48.64it/s]\n",
            "Validation Epoch 13, Loss: 0.43725, Acc: 0.84679: 100%|██████████| 581/581 [00:05<00:00, 111.53it/s]\n"
          ]
        },
        {
          "output_type": "stream",
          "name": "stdout",
          "text": [
            "\n"
          ]
        },
        {
          "output_type": "stream",
          "name": "stderr",
          "text": [
            "Epoch 14, Loss: 0.56454, Acc: 0.72847: 100%|██████████| 2031/2031 [00:43<00:00, 46.42it/s]\n",
            "Validation Epoch 14, Loss: 0.42883, Acc: 0.84889: 100%|██████████| 581/581 [00:05<00:00, 107.93it/s]\n"
          ]
        },
        {
          "output_type": "stream",
          "name": "stdout",
          "text": [
            "\n"
          ]
        },
        {
          "output_type": "stream",
          "name": "stderr",
          "text": [
            "Epoch 15, Loss: 0.56449, Acc: 0.72860: 100%|██████████| 2031/2031 [00:41<00:00, 48.99it/s]\n",
            "Validation Epoch 15, Loss: 0.43875, Acc: 0.84499: 100%|██████████| 581/581 [00:05<00:00, 100.65it/s]\n"
          ]
        },
        {
          "output_type": "stream",
          "name": "stdout",
          "text": [
            "\n"
          ]
        },
        {
          "output_type": "stream",
          "name": "stderr",
          "text": [
            "Epoch 16, Loss: 0.56407, Acc: 0.72899: 100%|██████████| 2031/2031 [00:42<00:00, 48.27it/s]\n",
            "Validation Epoch 16, Loss: 0.44789, Acc: 0.84044: 100%|██████████| 581/581 [00:05<00:00, 110.98it/s]\n"
          ]
        },
        {
          "output_type": "stream",
          "name": "stdout",
          "text": [
            "\n"
          ]
        },
        {
          "output_type": "stream",
          "name": "stderr",
          "text": [
            "Epoch 17, Loss: 0.56413, Acc: 0.72948: 100%|██████████| 2031/2031 [00:41<00:00, 48.90it/s]\n",
            "Validation Epoch 17, Loss: 0.44393, Acc: 0.84160: 100%|██████████| 581/581 [00:05<00:00, 97.01it/s]\n"
          ]
        },
        {
          "output_type": "stream",
          "name": "stdout",
          "text": [
            "\n"
          ]
        },
        {
          "output_type": "stream",
          "name": "stderr",
          "text": [
            "Epoch 18, Loss: 0.56411, Acc: 0.72923: 100%|██████████| 2031/2031 [00:41<00:00, 48.68it/s]\n",
            "Validation Epoch 18, Loss: 0.43770, Acc: 0.84273: 100%|██████████| 581/581 [00:05<00:00, 108.90it/s]\n"
          ]
        },
        {
          "output_type": "stream",
          "name": "stdout",
          "text": [
            "\n"
          ]
        },
        {
          "output_type": "stream",
          "name": "stderr",
          "text": [
            "Epoch 19, Loss: 0.56368, Acc: 0.72903: 100%|██████████| 2031/2031 [00:42<00:00, 47.61it/s]\n",
            "Validation Epoch 19, Loss: 0.44085, Acc: 0.83985: 100%|██████████| 581/581 [00:05<00:00, 109.31it/s]\n"
          ]
        },
        {
          "output_type": "stream",
          "name": "stdout",
          "text": [
            "\n"
          ]
        },
        {
          "output_type": "stream",
          "name": "stderr",
          "text": [
            "Epoch 20, Loss: 0.56380, Acc: 0.72921: 100%|██████████| 2031/2031 [00:41<00:00, 48.45it/s]\n",
            "Validation Epoch 20, Loss: 0.42443, Acc: 0.84846: 100%|██████████| 581/581 [00:06<00:00, 94.50it/s]\n"
          ]
        },
        {
          "output_type": "stream",
          "name": "stdout",
          "text": [
            "\n"
          ]
        },
        {
          "output_type": "stream",
          "name": "stderr",
          "text": [
            "Epoch 21, Loss: 0.56360, Acc: 0.72934: 100%|██████████| 2031/2031 [00:43<00:00, 46.67it/s]\n",
            "Validation Epoch 21, Loss: 0.42842, Acc: 0.84854: 100%|██████████| 581/581 [00:05<00:00, 111.75it/s]\n"
          ]
        },
        {
          "output_type": "stream",
          "name": "stdout",
          "text": [
            "\n"
          ]
        },
        {
          "output_type": "stream",
          "name": "stderr",
          "text": [
            "Epoch 22, Loss: 0.56359, Acc: 0.72964: 100%|██████████| 2031/2031 [00:42<00:00, 47.32it/s]\n",
            "Validation Epoch 22, Loss: 0.43373, Acc: 0.84488: 100%|██████████| 581/581 [00:05<00:00, 112.78it/s]\n"
          ]
        },
        {
          "output_type": "stream",
          "name": "stdout",
          "text": [
            "\n"
          ]
        },
        {
          "output_type": "stream",
          "name": "stderr",
          "text": [
            "Epoch 23, Loss: 0.56333, Acc: 0.72927: 100%|██████████| 2031/2031 [00:41<00:00, 48.54it/s]\n",
            "Validation Epoch 23, Loss: 0.43495, Acc: 0.84485: 100%|██████████| 581/581 [00:06<00:00, 95.73it/s]\n"
          ]
        },
        {
          "output_type": "stream",
          "name": "stdout",
          "text": [
            "\n"
          ]
        },
        {
          "output_type": "stream",
          "name": "stderr",
          "text": [
            "Epoch 24, Loss: 0.56332, Acc: 0.73026: 100%|██████████| 2031/2031 [00:42<00:00, 48.11it/s]\n",
            "Validation Epoch 24, Loss: 0.42945, Acc: 0.84275: 100%|██████████| 581/581 [00:05<00:00, 111.75it/s]\n"
          ]
        },
        {
          "output_type": "stream",
          "name": "stdout",
          "text": [
            "\n"
          ]
        },
        {
          "output_type": "stream",
          "name": "stderr",
          "text": [
            "Epoch 25, Loss: 0.56318, Acc: 0.72977: 100%|██████████| 2031/2031 [00:42<00:00, 48.29it/s]\n",
            "Validation Epoch 25, Loss: 0.41961, Acc: 0.84827: 100%|██████████| 581/581 [00:05<00:00, 103.13it/s]\n"
          ]
        },
        {
          "output_type": "stream",
          "name": "stdout",
          "text": [
            "\n"
          ]
        },
        {
          "output_type": "stream",
          "name": "stderr",
          "text": [
            "Epoch 26, Loss: 0.56291, Acc: 0.73052: 100%|██████████| 2031/2031 [00:41<00:00, 48.39it/s]\n",
            "Validation Epoch 26, Loss: 0.43282, Acc: 0.84189: 100%|██████████| 581/581 [00:05<00:00, 100.02it/s]\n"
          ]
        },
        {
          "output_type": "stream",
          "name": "stdout",
          "text": [
            "\n"
          ]
        },
        {
          "output_type": "stream",
          "name": "stderr",
          "text": [
            "Epoch 27, Loss: 0.56292, Acc: 0.72986: 100%|██████████| 2031/2031 [00:44<00:00, 45.95it/s]\n",
            "Validation Epoch 27, Loss: 0.43181, Acc: 0.84587: 100%|██████████| 581/581 [00:05<00:00, 110.43it/s]\n"
          ]
        },
        {
          "output_type": "stream",
          "name": "stdout",
          "text": [
            "\n"
          ]
        },
        {
          "output_type": "stream",
          "name": "stderr",
          "text": [
            "Epoch 28, Loss: 0.56294, Acc: 0.73040: 100%|██████████| 2031/2031 [00:41<00:00, 48.62it/s]\n",
            "Validation Epoch 28, Loss: 0.44312, Acc: 0.83522: 100%|██████████| 581/581 [00:05<00:00, 98.45it/s]\n"
          ]
        },
        {
          "output_type": "stream",
          "name": "stdout",
          "text": [
            "\n"
          ]
        },
        {
          "output_type": "stream",
          "name": "stderr",
          "text": [
            "Epoch 29, Loss: 0.56260, Acc: 0.73051: 100%|██████████| 2031/2031 [00:42<00:00, 47.89it/s]\n",
            "Validation Epoch 29, Loss: 0.42513, Acc: 0.84426: 100%|██████████| 581/581 [00:05<00:00, 104.59it/s]\n"
          ]
        },
        {
          "output_type": "stream",
          "name": "stdout",
          "text": [
            "\n"
          ]
        },
        {
          "output_type": "stream",
          "name": "stderr",
          "text": [
            "Epoch 30, Loss: 0.56286, Acc: 0.73004: 100%|██████████| 2031/2031 [00:42<00:00, 47.82it/s]\n",
            "Validation Epoch 30, Loss: 0.42462, Acc: 0.84526: 100%|██████████| 581/581 [00:05<00:00, 111.63it/s]\n"
          ]
        },
        {
          "output_type": "stream",
          "name": "stdout",
          "text": [
            "\n"
          ]
        },
        {
          "output_type": "stream",
          "name": "stderr",
          "text": [
            "Epoch 31, Loss: 0.56255, Acc: 0.73025: 100%|██████████| 2031/2031 [00:41<00:00, 48.68it/s]\n",
            "Validation Epoch 31, Loss: 0.43090, Acc: 0.84028: 100%|██████████| 581/581 [00:06<00:00, 95.36it/s] \n"
          ]
        },
        {
          "output_type": "stream",
          "name": "stdout",
          "text": [
            "\n"
          ]
        },
        {
          "output_type": "stream",
          "name": "stderr",
          "text": [
            "Epoch 32, Loss: 0.56255, Acc: 0.73025: 100%|██████████| 2031/2031 [00:41<00:00, 48.63it/s]\n",
            "Validation Epoch 32, Loss: 0.42482, Acc: 0.84657: 100%|██████████| 581/581 [00:05<00:00, 110.52it/s]\n"
          ]
        },
        {
          "output_type": "stream",
          "name": "stdout",
          "text": [
            "\n"
          ]
        },
        {
          "output_type": "stream",
          "name": "stderr",
          "text": [
            "Epoch 33, Loss: 0.56251, Acc: 0.73066: 100%|██████████| 2031/2031 [00:42<00:00, 48.32it/s]\n",
            "Validation Epoch 33, Loss: 0.43292, Acc: 0.83945: 100%|██████████| 581/581 [00:05<00:00, 103.08it/s]\n"
          ]
        },
        {
          "output_type": "stream",
          "name": "stdout",
          "text": [
            "\n"
          ]
        },
        {
          "output_type": "stream",
          "name": "stderr",
          "text": [
            "Epoch 34, Loss: 0.56271, Acc: 0.72985: 100%|██████████| 2031/2031 [00:42<00:00, 48.22it/s]\n",
            "Validation Epoch 34, Loss: 0.42904, Acc: 0.83808: 100%|██████████| 581/581 [00:05<00:00, 98.70it/s]\n"
          ]
        },
        {
          "output_type": "stream",
          "name": "stdout",
          "text": [
            "\n"
          ]
        },
        {
          "output_type": "stream",
          "name": "stderr",
          "text": [
            "Epoch 35, Loss: 0.56253, Acc: 0.73094: 100%|██████████| 2031/2031 [00:42<00:00, 47.33it/s]\n",
            "Validation Epoch 35, Loss: 0.41751, Acc: 0.84450: 100%|██████████| 581/581 [00:05<00:00, 111.18it/s]\n"
          ]
        },
        {
          "output_type": "stream",
          "name": "stdout",
          "text": [
            "\n"
          ]
        },
        {
          "output_type": "stream",
          "name": "stderr",
          "text": [
            "Epoch 36, Loss: 0.56216, Acc: 0.73113: 100%|██████████| 2031/2031 [00:41<00:00, 48.87it/s]\n",
            "Validation Epoch 36, Loss: 0.42144, Acc: 0.84461: 100%|██████████| 581/581 [00:06<00:00, 94.55it/s]\n"
          ]
        },
        {
          "output_type": "stream",
          "name": "stdout",
          "text": [
            "\n"
          ]
        },
        {
          "output_type": "stream",
          "name": "stderr",
          "text": [
            "Epoch 37, Loss: 0.56236, Acc: 0.73111: 100%|██████████| 2031/2031 [00:42<00:00, 48.19it/s]\n",
            "Validation Epoch 37, Loss: 0.43081, Acc: 0.83840: 100%|██████████| 581/581 [00:05<00:00, 108.11it/s]\n"
          ]
        },
        {
          "output_type": "stream",
          "name": "stdout",
          "text": [
            "\n"
          ]
        },
        {
          "output_type": "stream",
          "name": "stderr",
          "text": [
            "Epoch 38, Loss: 0.56233, Acc: 0.73065: 100%|██████████| 2031/2031 [00:43<00:00, 46.93it/s]\n",
            "Validation Epoch 38, Loss: 0.42198, Acc: 0.84308: 100%|██████████| 581/581 [00:05<00:00, 108.12it/s]\n"
          ]
        },
        {
          "output_type": "stream",
          "name": "stdout",
          "text": [
            "\n"
          ]
        },
        {
          "output_type": "stream",
          "name": "stderr",
          "text": [
            "Epoch 39, Loss: 0.56243, Acc: 0.73083: 100%|██████████| 2031/2031 [00:43<00:00, 46.55it/s]\n",
            "Validation Epoch 39, Loss: 0.42871, Acc: 0.84327: 100%|██████████| 581/581 [00:05<00:00, 98.78it/s]\n"
          ]
        },
        {
          "output_type": "stream",
          "name": "stdout",
          "text": [
            "\n"
          ]
        },
        {
          "output_type": "stream",
          "name": "stderr",
          "text": [
            "Epoch 40, Loss: 0.56214, Acc: 0.73140: 100%|██████████| 2031/2031 [00:41<00:00, 48.36it/s]\n",
            "Validation Epoch 40, Loss: 0.43664, Acc: 0.83611: 100%|██████████| 581/581 [00:05<00:00, 104.26it/s]\n"
          ]
        },
        {
          "output_type": "stream",
          "name": "stdout",
          "text": [
            "\n"
          ]
        },
        {
          "output_type": "stream",
          "name": "stderr",
          "text": [
            "Epoch 41, Loss: 0.56212, Acc: 0.73127: 100%|██████████| 2031/2031 [00:42<00:00, 48.16it/s]\n",
            "Validation Epoch 41, Loss: 0.43110, Acc: 0.83670: 100%|██████████| 581/581 [00:05<00:00, 110.16it/s]\n"
          ]
        },
        {
          "output_type": "stream",
          "name": "stdout",
          "text": [
            "\n"
          ]
        },
        {
          "output_type": "stream",
          "name": "stderr",
          "text": [
            "Epoch 42, Loss: 0.56211, Acc: 0.73068: 100%|██████████| 2031/2031 [00:41<00:00, 48.38it/s]\n",
            "Validation Epoch 42, Loss: 0.42217, Acc: 0.84219: 100%|██████████| 581/581 [00:06<00:00, 96.60it/s]\n"
          ]
        },
        {
          "output_type": "stream",
          "name": "stdout",
          "text": [
            "\n"
          ]
        },
        {
          "output_type": "stream",
          "name": "stderr",
          "text": [
            "Epoch 43, Loss: 0.56209, Acc: 0.73052: 100%|██████████| 2031/2031 [00:41<00:00, 48.45it/s]\n",
            "Validation Epoch 43, Loss: 0.42739, Acc: 0.84071: 100%|██████████| 581/581 [00:05<00:00, 109.02it/s]\n"
          ]
        },
        {
          "output_type": "stream",
          "name": "stdout",
          "text": [
            "\n"
          ]
        },
        {
          "output_type": "stream",
          "name": "stderr",
          "text": [
            "Epoch 44, Loss: 0.56228, Acc: 0.73079: 100%|██████████| 2031/2031 [00:41<00:00, 48.91it/s]\n",
            "Validation Epoch 44, Loss: 0.42611, Acc: 0.84316: 100%|██████████| 581/581 [00:05<00:00, 98.90it/s]\n"
          ]
        },
        {
          "output_type": "stream",
          "name": "stdout",
          "text": [
            "\n"
          ]
        },
        {
          "output_type": "stream",
          "name": "stderr",
          "text": [
            "Epoch 45, Loss: 0.56207, Acc: 0.73084: 100%|██████████| 2031/2031 [00:41<00:00, 48.44it/s]\n",
            "Validation Epoch 45, Loss: 0.42881, Acc: 0.84047: 100%|██████████| 581/581 [00:05<00:00, 111.55it/s]\n"
          ]
        },
        {
          "output_type": "stream",
          "name": "stdout",
          "text": [
            "\n"
          ]
        },
        {
          "output_type": "stream",
          "name": "stderr",
          "text": [
            "Epoch 46, Loss: 0.56186, Acc: 0.73083: 100%|██████████| 2031/2031 [00:42<00:00, 47.83it/s]\n",
            "Validation Epoch 46, Loss: 0.42613, Acc: 0.83953: 100%|██████████| 581/581 [00:05<00:00, 110.29it/s]\n"
          ]
        },
        {
          "output_type": "stream",
          "name": "stdout",
          "text": [
            "\n"
          ]
        },
        {
          "output_type": "stream",
          "name": "stderr",
          "text": [
            "Epoch 47, Loss: 0.56181, Acc: 0.73071: 100%|██████████| 2031/2031 [00:41<00:00, 48.66it/s]\n",
            "Validation Epoch 47, Loss: 0.42253, Acc: 0.84367: 100%|██████████| 581/581 [00:06<00:00, 94.84it/s]\n"
          ]
        },
        {
          "output_type": "stream",
          "name": "stdout",
          "text": [
            "\n"
          ]
        },
        {
          "output_type": "stream",
          "name": "stderr",
          "text": [
            "Epoch 48, Loss: 0.56168, Acc: 0.73147: 100%|██████████| 2031/2031 [00:42<00:00, 48.33it/s]\n",
            "Validation Epoch 48, Loss: 0.42184, Acc: 0.84163: 100%|██████████| 581/581 [00:05<00:00, 108.87it/s]\n"
          ]
        },
        {
          "output_type": "stream",
          "name": "stdout",
          "text": [
            "\n"
          ]
        },
        {
          "output_type": "stream",
          "name": "stderr",
          "text": [
            "Epoch 49, Loss: 0.56188, Acc: 0.73107: 100%|██████████| 2031/2031 [00:42<00:00, 47.78it/s]\n",
            "Validation Epoch 49, Loss: 0.42282, Acc: 0.84133: 100%|██████████| 581/581 [00:05<00:00, 103.83it/s]"
          ]
        },
        {
          "output_type": "stream",
          "name": "stdout",
          "text": [
            "\n"
          ]
        },
        {
          "output_type": "stream",
          "name": "stderr",
          "text": [
            "\n"
          ]
        }
      ],
      "source": [
        "EPOCHS = 50\n",
        "train_losses = []\n",
        "val_losses = []\n",
        "best_loss = float(\"inf\")\n",
        "model.to(device)\n",
        "for epoch in range(EPOCHS):\n",
        "    train_loss = train(epoch)\n",
        "    val_loss = validate(epoch)\n",
        "    train_losses.append(train_loss)\n",
        "    val_losses.append(val_loss)\n",
        "    print()\n",
        "    if val_loss < best_loss:\n",
        "        best_loss = val_loss\n",
        "        torch.save(model.state_dict(), \"best_magnn.pt\")"
      ]
    },
    {
      "cell_type": "code",
      "execution_count": null,
      "metadata": {
        "ExecuteTime": {
          "end_time": "2023-12-12T12:36:33.913126Z",
          "start_time": "2023-12-12T12:36:31.215498200Z"
        },
        "colab": {
          "base_uri": "https://localhost:8080/",
          "height": 430
        },
        "id": "ga5RHsDUWeee",
        "outputId": "ab70e8d4-fa63-4aab-cd77-859271d9bbee"
      },
      "outputs": [
        {
          "output_type": "display_data",
          "data": {
            "text/plain": [
              "<Figure size 640x480 with 1 Axes>"
            ],
            "image/png": "[encoded data removed]"
          },
          "metadata": {}
        }
      ],
      "source": [
        "plt.plot(train_losses, label=\"Train loss\")\n",
        "plt.plot(val_losses, label=\"Validation loss\")\n",
        "plt.legend()\n",
        "plt.show()"
      ]
    },
    {
      "cell_type": "code",
      "execution_count": null,
      "metadata": {
        "ExecuteTime": {
          "start_time": "2023-12-12T12:38:03.763140200Z"
        },
        "colab": {
          "base_uri": "https://localhost:8080/"
        },
        "id": "CchWdUfkWeee",
        "outputId": "1636023f-805e-4b08-8b7e-5ed0ec9ff95d"
      },
      "outputs": [
        {
          "output_type": "execute_result",
          "data": {
            "text/plain": [
              "<All keys matched successfully>"
            ]
          },
          "metadata": {},
          "execution_count": 25
        }
      ],
      "source": [
        "model = MAGNN(num_user_features, num_movie_features, 128, 128, 8, 0.2, BATCH_SIZE)\n",
        "model.load_state_dict(torch.load(\"best_magnn.pt\"))"
      ]
    },
    {
      "cell_type": "code",
      "execution_count": null,
      "metadata": {
        "ExecuteTime": {
          "start_time": "2023-12-12T12:38:03.764137800Z"
        },
        "colab": {
          "base_uri": "https://localhost:8080/"
        },
        "id": "XAMaqAEdWeee",
        "outputId": "a46cfd0b-4fab-45b8-ed76-b2273973c2ce"
      },
      "outputs": [
        {
          "output_type": "stream",
          "name": "stderr",
          "text": [
            "100%|██████████| 581/581 [00:04<00:00, 141.85it/s]"
          ]
        },
        {
          "output_type": "stream",
          "name": "stdout",
          "text": [
            "mAP: 0.9339975937438384\n",
            "Accuracy: 0.8444223403930664\n",
            "ROC-AUC score: 0.9507799327758307\n"
          ]
        },
        {
          "output_type": "stream",
          "name": "stderr",
          "text": [
            "\n"
          ]
        }
      ],
      "source": [
        "model.to(device)\n",
        "model.eval()\n",
        "\n",
        "maps = []\n",
        "accs = []\n",
        "rocs = []\n",
        "\n",
        "for batch in tqdm(test_loader):\n",
        "    edge, label, umetapath1, umetapath2, umetapath3, mmetapath1, mmetapath2, mmetapath3 = batch\n",
        "    edge, label, umetapath1, umetapath2, umetapath3, mmetapath1, mmetapath2, mmetapath3 = \\\n",
        "        edge.to(device), label.to(device), umetapath1.to(device), umetapath2.to(device), umetapath3.to(\n",
        "            device), mmetapath1.to(device), mmetapath2.to(device), mmetapath3.to(device)\n",
        "\n",
        "    out = model(edge, umetapath1, umetapath2, umetapath3, mmetapath1, mmetapath2, mmetapath3)\n",
        "    pred = (out > 0.5)\n",
        "    acc = (pred == label.reshape(-1, 1)).sum() / BATCH_SIZE\n",
        "\n",
        "    accs.append(acc.cpu())\n",
        "    maps.append(average_precision_score(label.reshape(-1, 1).cpu().detach().numpy(), out.cpu().detach().numpy()))\n",
        "    rocs.append(roc_auc_score(label.reshape(-1, 1).cpu().detach().numpy(), out.cpu().detach().numpy()))\n",
        "\n",
        "print(f\"mAP: {np.mean(maps)}\")\n",
        "print(f\"Accuracy: {np.mean(accs)}\")\n",
        "print(f\"ROC-AUC score: {np.mean(rocs)}\")"
      ]
    }
  ],
  "metadata": {
    "kernelspec": {
      "display_name": "Python 3",
      "name": "python3"
    },
    "language_info": {
      "codemirror_mode": {
        "name": "ipython",
        "version": 3
      },
      "file_extension": ".py",
      "mimetype": "text/x-python",
      "name": "python",
      "nbconvert_exporter": "python",
      "pygments_lexer": "ipython3",
      "version": "3.11.4"
    },
    "colab": {
      "provenance": [],
      "gpuType": "T4"
    },
    "accelerator": "GPU"
  },
  "nbformat": 4,
  "nbformat_minor": 0
}