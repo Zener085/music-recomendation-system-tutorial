{
 "cells": [
  {
   "cell_type": "code",
   "execution_count": 1,
   "metadata": {},
   "outputs": [],
   "source": [
    "import torch\n",
    "import torch.nn as nn\n",
    "import numpy as np\n",
    "import torch.nn.functional as F\n",
    "import pickle\n",
    "from tqdm import tqdm\n",
    "from torch.utils.data import Dataset, DataLoader\n",
    "from sklearn.metrics import average_precision_score\n",
    "import matplotlib.pyplot as plt"
   ]
  },
  {
   "cell_type": "code",
   "execution_count": 2,
   "metadata": {},
   "outputs": [
    {
     "data": {
      "text/plain": [
       "<torch._C.Generator at 0x230ced07710>"
      ]
     },
     "execution_count": 2,
     "metadata": {},
     "output_type": "execute_result"
    }
   ],
   "source": [
    "np.random.seed(1337)\n",
    "torch.manual_seed(1337)"
   ]
  },
  {
   "cell_type": "code",
   "execution_count": 3,
   "metadata": {},
   "outputs": [],
   "source": [
    "NUM_USERS = 943\n",
    "NUM_MOVIES = 1682\n",
    "BATCH_SIZE = 64\n",
    "\n",
    "num_user_features = 24\n",
    "num_movie_features = 20\n",
    "\n",
    "device = 'cuda' if torch.cuda.is_available() else 'cpu'"
   ]
  },
  {
   "cell_type": "code",
   "execution_count": 4,
   "metadata": {},
   "outputs": [],
   "source": [
    "# loading preprocessed data\n",
    "path = '../data/preprocessed/'\n",
    "\n",
    "in_file = open(path + 'user_features.pickle', 'rb')\n",
    "user_features = pickle.load(in_file)\n",
    "for key, val in user_features.items():\n",
    "    user_features[key] = torch.tensor(val.astype(np.float32))\n",
    "in_file.close()\n",
    "\n",
    "in_file = open(path + 'movie_features.pickle', 'rb')\n",
    "movie_features = pickle.load(in_file)\n",
    "for key, val in movie_features.items():\n",
    "    movie_features[key] = torch.tensor(val.astype(np.float32))\n",
    "in_file.close()"
   ]
  },
  {
   "cell_type": "code",
   "execution_count": 5,
   "metadata": {},
   "outputs": [],
   "source": [
    "path = '../data/preprocessed/train/'\n",
    "\n",
    "in_file = open(path + 'user_metapaths.pickle', 'rb')\n",
    "train_user_metapaths = pickle.load(in_file)\n",
    "in_file.close()\n",
    "\n",
    "in_file = open(path + 'movie_metapaths.pickle', 'rb')\n",
    "train_movie_metapaths = pickle.load(in_file)\n",
    "in_file.close()\n",
    "\n",
    "train_pos = np.load(path + 'train_pos.npy')"
   ]
  },
  {
   "cell_type": "code",
   "execution_count": 6,
   "metadata": {},
   "outputs": [],
   "source": [
    "path = '../data/preprocessed/test/'\n",
    "\n",
    "in_file = open(path + 'user_metapaths.pickle', 'rb')\n",
    "test_user_metapaths = pickle.load(in_file)\n",
    "in_file.close()\n",
    "\n",
    "in_file = open(path + 'movie_metapaths.pickle', 'rb')\n",
    "test_movie_metapaths = pickle.load(in_file)\n",
    "in_file.close()\n",
    "\n",
    "test_pos = np.load(path + 'test_pos.npy')"
   ]
  },
  {
   "cell_type": "code",
   "execution_count": 7,
   "metadata": {},
   "outputs": [],
   "source": [
    "class UserMovieDataset(Dataset):\n",
    "    '''Dataset for MAGNN training and evaluation'''\n",
    "    def __init__(self, positives, user_metapaths, movie_metapaths, max_user_size, max_movie_size, benchmark=False):\n",
    "\n",
    "        self.max_user_size = max_user_size\n",
    "        self.max_movie_size = max_movie_size\n",
    "\n",
    "        self.user_metapaths = user_metapaths\n",
    "        self.movie_metapaths = movie_metapaths\n",
    "        self.merge_metapaths()\n",
    "\n",
    "        if not benchmark:\n",
    "            self.pos = positives\n",
    "            self.sample_negatives()\n",
    "\n",
    "            self.data = torch.tensor(np.vstack([self.pos, self.neg]))\n",
    "            self.labels = torch.vstack([torch.ones((len(self.pos), 1)), torch.zeros((len(self.neg), 1))])\n",
    "        else:\n",
    "            self.data = torch.tensor(positives[:, :2])\n",
    "            self.labels = torch.tensor(positives[:, 2])\n",
    "\n",
    "    def sample_negatives(self):\n",
    "        self.neg = []\n",
    "        for i in tqdm(range(len(self.pos)), desc='Sampling negative edges'):\n",
    "            user_id = np.random.randint(NUM_USERS)\n",
    "            movie_id = np.random.randint(NUM_MOVIES)\n",
    "            while ([user_id, movie_id] not in self.pos and \\\n",
    "                    [user_id, movie_id] not in self.neg) or \\\n",
    "                    len(self.user_metapaths[user_id]) == 0 or \\\n",
    "                    len(self.movie_metapaths[movie_id]) == 0:\n",
    "                user_id = np.random.randint(NUM_USERS)\n",
    "                movie_id = np.random.randint(NUM_MOVIES)\n",
    "            self.neg.append([user_id, movie_id])\n",
    "        self.neg = np.array(self.neg)\n",
    "\n",
    "    def merge_metapaths(self):\n",
    "        for key, val in tqdm(self.user_metapaths.items(), desc='Extracting user metapaths'):\n",
    "            if len(self.user_metapaths[key]) > 0:\n",
    "                self.user_metapaths[key] = [torch.vstack([user_features[i] for i in val[:, 0]])[:self.max_user_size], \n",
    "                                            torch.vstack([movie_features[i] for i in val[:, 1]])[:self.max_user_size], \n",
    "                                            torch.vstack([user_features[i] for i in val[:, 2]])[:self.max_user_size]]\n",
    "                while len(self.user_metapaths[key][0]) < self.max_user_size:\n",
    "                    self.user_metapaths[key][0] = torch.vstack([self.user_metapaths[key][0], torch.zeros_like(self.user_metapaths[key][0][0])])\n",
    "                    self.user_metapaths[key][1] = torch.vstack([self.user_metapaths[key][1], torch.zeros_like(self.user_metapaths[key][1][0])])\n",
    "                    self.user_metapaths[key][2] = torch.vstack([self.user_metapaths[key][2], torch.zeros_like(self.user_metapaths[key][2][0])])\n",
    "                \n",
    "            \n",
    "        for key, val in tqdm(self.movie_metapaths.items(), desc='Extracting movie metapaths'):\n",
    "            if len(self.movie_metapaths[key]) > 0:\n",
    "                self.movie_metapaths[key] = [torch.vstack([movie_features[i] for i in val[:, 0]])[:self.max_movie_size],\n",
    "                                            torch.vstack([user_features[i] for i in val[:, 1]])[:self.max_movie_size],\n",
    "                                            torch.vstack([movie_features[i] for i in val[:, 2]])[:self.max_movie_size]]\n",
    "                while len(self.movie_metapaths[key][0]) < self.max_movie_size:\n",
    "                    self.movie_metapaths[key][0] = torch.vstack([self.movie_metapaths[key][0], torch.zeros_like(self.movie_metapaths[key][0][0])])\n",
    "                    self.movie_metapaths[key][1] = torch.vstack([self.movie_metapaths[key][1], torch.zeros_like(self.movie_metapaths[key][1][0])])\n",
    "                    self.movie_metapaths[key][2] = torch.vstack([self.movie_metapaths[key][2], torch.zeros_like(self.movie_metapaths[key][2][0])])\n",
    "\n",
    "    def __getitem__(self, idx):\n",
    "        user_id, movie_id = self.data[idx]\n",
    "        return self.data[idx], self.labels[idx], *self.user_metapaths[user_id.item()], *self.movie_metapaths[movie_id.item()]\n",
    "\n",
    "    def __len__(self):\n",
    "        return len(self.data)"
   ]
  },
  {
   "cell_type": "code",
   "execution_count": 8,
   "metadata": {},
   "outputs": [
    {
     "name": "stdout",
     "output_type": "stream",
     "text": [
      "Train Dataset:\n"
     ]
    },
    {
     "name": "stderr",
     "output_type": "stream",
     "text": [
      "Extracting user metapaths: 100%|██████████| 943/943 [15:46<00:00,  1.00s/it]\n",
      "Extracting movie metapaths: 100%|██████████| 1682/1682 [28:50<00:00,  1.03s/it] \n",
      "Sampling negative edges: 100%|██████████| 49906/49906 [01:02<00:00, 798.50it/s] \n"
     ]
    },
    {
     "name": "stdout",
     "output_type": "stream",
     "text": [
      "Test Dataset:\n"
     ]
    },
    {
     "name": "stderr",
     "output_type": "stream",
     "text": [
      "Extracting user metapaths: 100%|██████████| 943/943 [00:04<00:00, 189.42it/s]\n",
      "Extracting movie metapaths: 100%|██████████| 1682/1682 [00:02<00:00, 666.70it/s] \n",
      "Sampling negative edges: 100%|██████████| 5469/5469 [00:01<00:00, 3761.08it/s]\n"
     ]
    }
   ],
   "source": [
    "print('Train Dataset:')\n",
    "train_dataset = UserMovieDataset(train_pos, train_user_metapaths, train_movie_metapaths, 5931, 3789)\n",
    "print('Test Dataset:')\n",
    "test_dataset = UserMovieDataset(test_pos, test_user_metapaths, test_movie_metapaths, 100, 41)"
   ]
  },
  {
   "cell_type": "code",
   "execution_count": 9,
   "metadata": {},
   "outputs": [],
   "source": [
    "train_loader = DataLoader(train_dataset, batch_size=BATCH_SIZE, shuffle=True)\n",
    "test_loader = DataLoader(test_dataset, batch_size=BATCH_SIZE, shuffle=True)"
   ]
  },
  {
   "cell_type": "code",
   "execution_count": 10,
   "metadata": {},
   "outputs": [],
   "source": [
    "class GraphAttention(nn.Module):\n",
    "    '''Attention layer for encoded metapaths'''\n",
    "    def __init__(self, \n",
    "                 hidden_dim,\n",
    "                 num_heads,\n",
    "                 dropout):\n",
    "        super().__init__()\n",
    "        self.hidden_dim = hidden_dim\n",
    "        self.query = nn.Linear(hidden_dim, hidden_dim)\n",
    "        self.key = nn.Linear(hidden_dim, hidden_dim)\n",
    "        self.value = nn.Linear(hidden_dim, hidden_dim)\n",
    "        self.attention = nn.MultiheadAttention(hidden_dim, num_heads, dropout=dropout, batch_first=True)\n",
    "        \n",
    "    def forward(self, x):\n",
    "        queries = self.query(x)\n",
    "        keys = self.key(x)\n",
    "        values = self.value(x)\n",
    "        weighted, _ = self.attention(queries, keys, values)\n",
    "        return weighted\n",
    "\n",
    "class MetapathEncoder(nn.Module):\n",
    "    '''Inter-metapath aggregator'''\n",
    "    def __init__(self,\n",
    "                 in_dim,\n",
    "                 out_dim, \n",
    "                ):\n",
    "        super().__init__()\n",
    "        self.fc = nn.Linear(in_dim, out_dim)\n",
    "\n",
    "    def forward(self, metapath):\n",
    "        x = torch.mean(metapath, dim=1)\n",
    "        return self.fc(x)\n",
    "\n",
    "class MAGNN(nn.Module):\n",
    "    '''MAGNN architecture, but simplified for only 1 metapath per node type (due to computing powers limitation)'''\n",
    "    def __init__(self,\n",
    "                 num_user_features,\n",
    "                 num_movie_features,\n",
    "                 hidden_dim,\n",
    "                 out_dim,\n",
    "                 num_heads,\n",
    "                 dropout,\n",
    "                 batch_size\n",
    "                 ):\n",
    "        super().__init__()\n",
    "        self.hidden_dim = hidden_dim\n",
    "        self.batch_size = batch_size\n",
    "\n",
    "        self.num_user_features = num_user_features\n",
    "        self.num_movie_features = num_movie_features\n",
    "\n",
    "        self.user_feature_encoder = nn.Linear(self.num_user_features, hidden_dim)\n",
    "        self.movie_feature_encoder = nn.Linear(self.num_movie_features, hidden_dim)\n",
    "\n",
    "        self.user_metapath_encoder = MetapathEncoder(hidden_dim, hidden_dim)\n",
    "        self.user_metapath_attention = GraphAttention(hidden_dim, num_heads, dropout)\n",
    "\n",
    "        self.movie_metapath_encoder = MetapathEncoder(hidden_dim, hidden_dim)\n",
    "        self.movie_metapath_attention = GraphAttention(hidden_dim, num_heads, dropout)\n",
    "\n",
    "        self.user_node_embedding = nn.Linear(hidden_dim, out_dim)\n",
    "        self.user_dropout = nn.Dropout(dropout)\n",
    "\n",
    "        self.movie_node_embedding = nn.Linear(hidden_dim, out_dim, dropout)\n",
    "        self.movie_dropout = nn.Dropout(dropout)\n",
    "\n",
    "        self.recommender = nn.Linear(2 * out_dim, 1)\n",
    "\n",
    "    def forward(self, _, user_metapaths1, user_metapaths2, user_metapaths3, movie_metapaths1, movie_metapaths2, movie_metapaths3):\n",
    "\n",
    "        user_metapath_isntance = torch.cat([\n",
    "            self.user_feature_encoder(user_metapaths1),\n",
    "            self.movie_feature_encoder(user_metapaths2),\n",
    "            self.user_feature_encoder(user_metapaths3)\n",
    "        ], dim=1)\n",
    "        user_aggregated_metapath = F.tanh(self.user_metapath_encoder(user_metapath_isntance))\n",
    "        user_aggregated_metapath = self.user_metapath_attention(user_aggregated_metapath)\n",
    "\n",
    "        movie_metapath_isntance = torch.cat([\n",
    "            self.movie_feature_encoder(movie_metapaths1),\n",
    "            self.user_feature_encoder(movie_metapaths2),\n",
    "            self.movie_feature_encoder(movie_metapaths3)\n",
    "        ], dim=1)\n",
    "        movie_aggregated_metapath = F.tanh(self.movie_metapath_encoder(movie_metapath_isntance))\n",
    "        movie_aggregated_metapath = self.movie_metapath_attention(movie_aggregated_metapath)\n",
    "\n",
    "        user_embed = self.user_dropout(F.sigmoid(self.user_node_embedding(user_aggregated_metapath)))\n",
    "        movie_embed = self.movie_dropout(F.sigmoid(self.movie_node_embedding(movie_aggregated_metapath)))\n",
    "\n",
    "        out = self.recommender(torch.cat([user_embed, movie_embed], dim=1))\n",
    "\n",
    "        return F.sigmoid(out)"
   ]
  },
  {
   "cell_type": "code",
   "execution_count": 11,
   "metadata": {},
   "outputs": [],
   "source": [
    "model = MAGNN(num_user_features=num_user_features, \n",
    "              num_movie_features=num_movie_features, \n",
    "              hidden_dim=128, \n",
    "              out_dim=128, \n",
    "              num_heads=8, \n",
    "              dropout=0.2,\n",
    "              batch_size=BATCH_SIZE)"
   ]
  },
  {
   "cell_type": "code",
   "execution_count": 12,
   "metadata": {},
   "outputs": [],
   "source": [
    "criterion = nn.BCELoss()\n",
    "optimizer = torch.optim.Adam(model.parameters(), lr=2e-5, weight_decay=2e-7)"
   ]
  },
  {
   "cell_type": "code",
   "execution_count": 13,
   "metadata": {},
   "outputs": [],
   "source": [
    "def train(epoch):\n",
    "\n",
    "    losses = []\n",
    "    accs = []\n",
    "\n",
    "    model.train()\n",
    "    progress_bar = tqdm(train_loader, desc=f'Epoch {epoch}')\n",
    "    for batch in progress_bar:\n",
    "        edge, label, umetapath1, umetapath2, umetapath3, mmetapath1, mmetapath2, mmetapath3 = batch\n",
    "        edge, label, umetapath1, umetapath2, umetapath3, mmetapath1, mmetapath2, mmetapath3 = \\\n",
    "            edge.to(device), label.to(device), umetapath1.to(device), umetapath2.to(device), umetapath3.to(device), mmetapath1.to(device), mmetapath2.to(device), mmetapath3.to(device)\n",
    "\n",
    "        optimizer.zero_grad()\n",
    "\n",
    "        out = model(edge, umetapath1, umetapath2, umetapath3, mmetapath1, mmetapath2, mmetapath3)\n",
    "\n",
    "        pred = (out > 0.5)\n",
    "\n",
    "        loss = criterion(out, label)\n",
    "        acc = (pred == label).sum() / BATCH_SIZE\n",
    "        \n",
    "        losses.append(loss.item())\n",
    "        accs.append(acc.cpu())\n",
    "\n",
    "        loss.backward()\n",
    "        optimizer.step()\n",
    "\n",
    "        progress_bar.set_description(f'Epoch {epoch}, Loss: {np.mean(losses):.5f}, Acc: {np.mean(accs):.5f}')\n",
    "\n",
    "    return np.mean(losses)\n",
    "\n",
    "def validate(epoch):\n",
    "    losses = []\n",
    "    accs = []\n",
    "\n",
    "    model.eval()\n",
    "    progress_bar = tqdm(test_loader)\n",
    "    for batch in progress_bar:\n",
    "        edge, label, umetapath1, umetapath2, umetapath3, mmetapath1, mmetapath2, mmetapath3 = batch\n",
    "        edge, label, umetapath1, umetapath2, umetapath3, mmetapath1, mmetapath2, mmetapath3 = \\\n",
    "            edge.to(device), label.to(device), umetapath1.to(device), umetapath2.to(device), umetapath3.to(device), mmetapath1.to(device), mmetapath2.to(device), mmetapath3.to(device)\n",
    "\n",
    "        out = model(edge, umetapath1, umetapath2, umetapath3, mmetapath1, mmetapath2, mmetapath3)\n",
    "\n",
    "        pred = (out > 0.5)\n",
    "\n",
    "        loss = criterion(out, label)\n",
    "        acc = (pred == label).sum() / BATCH_SIZE\n",
    "        \n",
    "        losses.append(loss.item())\n",
    "        accs.append(acc.cpu())\n",
    "\n",
    "        progress_bar.set_description(f'Validation Epoch {epoch}, Loss: {np.mean(losses):.5f}, Acc: {np.mean(accs):.5f}')\n",
    "    \n",
    "    return np.mean(losses)"
   ]
  },
  {
   "cell_type": "code",
   "execution_count": 14,
   "metadata": {},
   "outputs": [],
   "source": [
    "torch.cuda.empty_cache()"
   ]
  },
  {
   "cell_type": "code",
   "execution_count": 15,
   "metadata": {},
   "outputs": [
    {
     "name": "stderr",
     "output_type": "stream",
     "text": [
      "Epoch 0, Loss: 0.67619, Acc: 0.53907: 100%|██████████| 1560/1560 [07:12<00:00,  3.60it/s]\n",
      "Validation Epoch 0, Loss: 0.60331, Acc: 0.69444: 100%|██████████| 171/171 [00:03<00:00, 42.81it/s]\n"
     ]
    },
    {
     "name": "stdout",
     "output_type": "stream",
     "text": [
      "\n"
     ]
    },
    {
     "name": "stderr",
     "output_type": "stream",
     "text": [
      "Epoch 1, Loss: 0.54284, Acc: 0.74379: 100%|██████████| 1560/1560 [04:22<00:00,  5.94it/s]\n",
      "Validation Epoch 1, Loss: 0.59900, Acc: 0.69444: 100%|██████████| 171/171 [00:02<00:00, 85.43it/s]\n"
     ]
    },
    {
     "name": "stdout",
     "output_type": "stream",
     "text": [
      "\n"
     ]
    },
    {
     "name": "stderr",
     "output_type": "stream",
     "text": [
      "Epoch 2, Loss: 0.53802, Acc: 0.74451: 100%|██████████| 1560/1560 [03:53<00:00,  6.67it/s]\n",
      "Validation Epoch 2, Loss: 0.59373, Acc: 0.69737: 100%|██████████| 171/171 [00:01<00:00, 90.76it/s]\n"
     ]
    },
    {
     "name": "stdout",
     "output_type": "stream",
     "text": [
      "\n"
     ]
    },
    {
     "name": "stderr",
     "output_type": "stream",
     "text": [
      "Epoch 3, Loss: 0.53601, Acc: 0.74554: 100%|██████████| 1560/1560 [03:49<00:00,  6.80it/s]\n",
      "Validation Epoch 3, Loss: 0.59472, Acc: 0.69910: 100%|██████████| 171/171 [00:02<00:00, 83.89it/s]\n"
     ]
    },
    {
     "name": "stdout",
     "output_type": "stream",
     "text": [
      "\n"
     ]
    },
    {
     "name": "stderr",
     "output_type": "stream",
     "text": [
      "Epoch 4, Loss: 0.48406, Acc: 0.78138: 100%|██████████| 1560/1560 [03:49<00:00,  6.80it/s]\n",
      "Validation Epoch 4, Loss: 0.65133, Acc: 0.67681: 100%|██████████| 171/171 [00:01<00:00, 85.92it/s]\n"
     ]
    },
    {
     "name": "stdout",
     "output_type": "stream",
     "text": [
      "\n"
     ]
    },
    {
     "name": "stderr",
     "output_type": "stream",
     "text": [
      "Epoch 5, Loss: 0.47585, Acc: 0.78733: 100%|██████████| 1560/1560 [03:52<00:00,  6.72it/s]\n",
      "Validation Epoch 5, Loss: 0.63802, Acc: 0.68403: 100%|██████████| 171/171 [00:01<00:00, 87.27it/s]\n"
     ]
    },
    {
     "name": "stdout",
     "output_type": "stream",
     "text": [
      "\n"
     ]
    },
    {
     "name": "stderr",
     "output_type": "stream",
     "text": [
      "Epoch 6, Loss: 0.47398, Acc: 0.78816: 100%|██████████| 1560/1560 [03:52<00:00,  6.70it/s]\n",
      "Validation Epoch 6, Loss: 0.63629, Acc: 0.68366: 100%|██████████| 171/171 [00:01<00:00, 87.17it/s]\n"
     ]
    },
    {
     "name": "stdout",
     "output_type": "stream",
     "text": [
      "\n"
     ]
    },
    {
     "name": "stderr",
     "output_type": "stream",
     "text": [
      "Epoch 7, Loss: 0.47321, Acc: 0.78871: 100%|██████████| 1560/1560 [03:51<00:00,  6.74it/s]\n",
      "Validation Epoch 7, Loss: 0.63061, Acc: 0.68512: 100%|██████████| 171/171 [00:01<00:00, 88.32it/s]\n"
     ]
    },
    {
     "name": "stdout",
     "output_type": "stream",
     "text": [
      "\n"
     ]
    },
    {
     "name": "stderr",
     "output_type": "stream",
     "text": [
      "Epoch 8, Loss: 0.47151, Acc: 0.78975: 100%|██████████| 1560/1560 [03:51<00:00,  6.75it/s]\n",
      "Validation Epoch 8, Loss: 0.64247, Acc: 0.68394: 100%|██████████| 171/171 [00:01<00:00, 88.80it/s]\n"
     ]
    },
    {
     "name": "stdout",
     "output_type": "stream",
     "text": [
      "\n"
     ]
    },
    {
     "name": "stderr",
     "output_type": "stream",
     "text": [
      "Epoch 9, Loss: 0.47062, Acc: 0.79031: 100%|██████████| 1560/1560 [03:51<00:00,  6.74it/s]\n",
      "Validation Epoch 9, Loss: 0.63379, Acc: 0.68229: 100%|██████████| 171/171 [00:02<00:00, 84.87it/s]\n"
     ]
    },
    {
     "name": "stdout",
     "output_type": "stream",
     "text": [
      "\n"
     ]
    },
    {
     "name": "stderr",
     "output_type": "stream",
     "text": [
      "Epoch 10, Loss: 0.46972, Acc: 0.78939: 100%|██████████| 1560/1560 [03:51<00:00,  6.75it/s]\n",
      "Validation Epoch 10, Loss: 0.62700, Acc: 0.68732: 100%|██████████| 171/171 [00:01<00:00, 88.52it/s]\n"
     ]
    },
    {
     "name": "stdout",
     "output_type": "stream",
     "text": [
      "\n"
     ]
    },
    {
     "name": "stderr",
     "output_type": "stream",
     "text": [
      "Epoch 11, Loss: 0.46808, Acc: 0.79170: 100%|██████████| 1560/1560 [03:51<00:00,  6.75it/s]\n",
      "Validation Epoch 11, Loss: 0.64020, Acc: 0.67644: 100%|██████████| 171/171 [00:01<00:00, 87.51it/s]\n"
     ]
    },
    {
     "name": "stdout",
     "output_type": "stream",
     "text": [
      "\n"
     ]
    },
    {
     "name": "stderr",
     "output_type": "stream",
     "text": [
      "Epoch 12, Loss: 0.46710, Acc: 0.79206: 100%|██████████| 1560/1560 [03:49<00:00,  6.81it/s]\n",
      "Validation Epoch 12, Loss: 0.63568, Acc: 0.68586: 100%|██████████| 171/171 [00:01<00:00, 88.04it/s]\n"
     ]
    },
    {
     "name": "stdout",
     "output_type": "stream",
     "text": [
      "\n"
     ]
    },
    {
     "name": "stderr",
     "output_type": "stream",
     "text": [
      "Epoch 13, Loss: 0.46588, Acc: 0.79182: 100%|██████████| 1560/1560 [03:49<00:00,  6.80it/s]\n",
      "Validation Epoch 13, Loss: 0.63458, Acc: 0.68512: 100%|██████████| 171/171 [00:01<00:00, 85.94it/s]\n"
     ]
    },
    {
     "name": "stdout",
     "output_type": "stream",
     "text": [
      "\n"
     ]
    },
    {
     "name": "stderr",
     "output_type": "stream",
     "text": [
      "Epoch 14, Loss: 0.46522, Acc: 0.79237: 100%|██████████| 1560/1560 [03:49<00:00,  6.79it/s]\n",
      "Validation Epoch 14, Loss: 0.64009, Acc: 0.68841: 100%|██████████| 171/171 [00:01<00:00, 85.68it/s]\n"
     ]
    },
    {
     "name": "stdout",
     "output_type": "stream",
     "text": [
      "\n"
     ]
    },
    {
     "name": "stderr",
     "output_type": "stream",
     "text": [
      "Epoch 15, Loss: 0.46356, Acc: 0.79302: 100%|██████████| 1560/1560 [03:48<00:00,  6.82it/s]\n",
      "Validation Epoch 15, Loss: 0.64150, Acc: 0.68238: 100%|██████████| 171/171 [00:01<00:00, 85.88it/s]\n"
     ]
    },
    {
     "name": "stdout",
     "output_type": "stream",
     "text": [
      "\n"
     ]
    },
    {
     "name": "stderr",
     "output_type": "stream",
     "text": [
      "Epoch 16, Loss: 0.46303, Acc: 0.79348: 100%|██████████| 1560/1560 [03:49<00:00,  6.79it/s]\n",
      "Validation Epoch 16, Loss: 0.64387, Acc: 0.68183: 100%|██████████| 171/171 [00:01<00:00, 87.11it/s]\n"
     ]
    },
    {
     "name": "stdout",
     "output_type": "stream",
     "text": [
      "\n"
     ]
    },
    {
     "name": "stderr",
     "output_type": "stream",
     "text": [
      "Epoch 17, Loss: 0.46088, Acc: 0.79444: 100%|██████████| 1560/1560 [03:48<00:00,  6.82it/s]\n",
      "Validation Epoch 17, Loss: 0.65161, Acc: 0.67937: 100%|██████████| 171/171 [00:01<00:00, 87.69it/s]\n"
     ]
    },
    {
     "name": "stdout",
     "output_type": "stream",
     "text": [
      "\n"
     ]
    },
    {
     "name": "stderr",
     "output_type": "stream",
     "text": [
      "Epoch 18, Loss: 0.45813, Acc: 0.79492: 100%|██████████| 1560/1560 [03:49<00:00,  6.79it/s]\n",
      "Validation Epoch 18, Loss: 0.64176, Acc: 0.67928: 100%|██████████| 171/171 [00:01<00:00, 87.33it/s]\n"
     ]
    },
    {
     "name": "stdout",
     "output_type": "stream",
     "text": [
      "\n"
     ]
    },
    {
     "name": "stderr",
     "output_type": "stream",
     "text": [
      "Epoch 19, Loss: 0.45704, Acc: 0.79566: 100%|██████████| 1560/1560 [03:49<00:00,  6.81it/s]\n",
      "Validation Epoch 19, Loss: 0.65353, Acc: 0.67763: 100%|██████████| 171/171 [00:01<00:00, 87.18it/s]\n"
     ]
    },
    {
     "name": "stdout",
     "output_type": "stream",
     "text": [
      "\n"
     ]
    },
    {
     "name": "stderr",
     "output_type": "stream",
     "text": [
      "Epoch 20, Loss: 0.45525, Acc: 0.79564: 100%|██████████| 1560/1560 [03:48<00:00,  6.81it/s]\n",
      "Validation Epoch 20, Loss: 0.64786, Acc: 0.67672: 100%|██████████| 171/171 [00:01<00:00, 86.96it/s]\n"
     ]
    },
    {
     "name": "stdout",
     "output_type": "stream",
     "text": [
      "\n"
     ]
    },
    {
     "name": "stderr",
     "output_type": "stream",
     "text": [
      "Epoch 21, Loss: 0.45469, Acc: 0.79645: 100%|██████████| 1560/1560 [03:49<00:00,  6.80it/s]\n",
      "Validation Epoch 21, Loss: 0.64409, Acc: 0.67654: 100%|██████████| 171/171 [00:02<00:00, 81.43it/s]\n"
     ]
    },
    {
     "name": "stdout",
     "output_type": "stream",
     "text": [
      "\n"
     ]
    },
    {
     "name": "stderr",
     "output_type": "stream",
     "text": [
      "Epoch 22, Loss: 0.45381, Acc: 0.79704: 100%|██████████| 1560/1560 [03:56<00:00,  6.60it/s]\n",
      "Validation Epoch 22, Loss: 0.66288, Acc: 0.67224: 100%|██████████| 171/171 [00:01<00:00, 85.86it/s]\n"
     ]
    },
    {
     "name": "stdout",
     "output_type": "stream",
     "text": [
      "\n"
     ]
    },
    {
     "name": "stderr",
     "output_type": "stream",
     "text": [
      "Epoch 23, Loss: 0.45340, Acc: 0.79722: 100%|██████████| 1560/1560 [03:48<00:00,  6.82it/s]\n",
      "Validation Epoch 23, Loss: 0.64697, Acc: 0.67306: 100%|██████████| 171/171 [00:01<00:00, 88.19it/s]\n"
     ]
    },
    {
     "name": "stdout",
     "output_type": "stream",
     "text": [
      "\n"
     ]
    },
    {
     "name": "stderr",
     "output_type": "stream",
     "text": [
      "Epoch 24, Loss: 0.45244, Acc: 0.79803: 100%|██████████| 1560/1560 [03:49<00:00,  6.81it/s]\n",
      "Validation Epoch 24, Loss: 0.64939, Acc: 0.67389: 100%|██████████| 171/171 [00:01<00:00, 86.43it/s]\n"
     ]
    },
    {
     "name": "stdout",
     "output_type": "stream",
     "text": [
      "\n"
     ]
    },
    {
     "name": "stderr",
     "output_type": "stream",
     "text": [
      "Epoch 25, Loss: 0.45136, Acc: 0.79847: 100%|██████████| 1560/1560 [03:49<00:00,  6.80it/s]\n",
      "Validation Epoch 25, Loss: 0.65755, Acc: 0.66594: 100%|██████████| 171/171 [00:02<00:00, 81.49it/s]\n"
     ]
    },
    {
     "name": "stdout",
     "output_type": "stream",
     "text": [
      "\n"
     ]
    },
    {
     "name": "stderr",
     "output_type": "stream",
     "text": [
      "Epoch 26, Loss: 0.45115, Acc: 0.79819: 100%|██████████| 1560/1560 [03:49<00:00,  6.80it/s]\n",
      "Validation Epoch 26, Loss: 0.65509, Acc: 0.67224: 100%|██████████| 171/171 [00:01<00:00, 88.77it/s]\n"
     ]
    },
    {
     "name": "stdout",
     "output_type": "stream",
     "text": [
      "\n"
     ]
    },
    {
     "name": "stderr",
     "output_type": "stream",
     "text": [
      "Epoch 27, Loss: 0.45017, Acc: 0.79891: 100%|██████████| 1560/1560 [03:48<00:00,  6.82it/s]\n",
      "Validation Epoch 27, Loss: 0.66932, Acc: 0.66676: 100%|██████████| 171/171 [00:01<00:00, 87.50it/s]\n"
     ]
    },
    {
     "name": "stdout",
     "output_type": "stream",
     "text": [
      "\n"
     ]
    },
    {
     "name": "stderr",
     "output_type": "stream",
     "text": [
      "Epoch 28, Loss: 0.45010, Acc: 0.79908: 100%|██████████| 1560/1560 [03:49<00:00,  6.81it/s]\n",
      "Validation Epoch 28, Loss: 0.65976, Acc: 0.66393: 100%|██████████| 171/171 [00:01<00:00, 87.46it/s]\n"
     ]
    },
    {
     "name": "stdout",
     "output_type": "stream",
     "text": [
      "\n"
     ]
    },
    {
     "name": "stderr",
     "output_type": "stream",
     "text": [
      "Epoch 29, Loss: 0.44935, Acc: 0.79975: 100%|██████████| 1560/1560 [03:49<00:00,  6.80it/s]\n",
      "Validation Epoch 29, Loss: 0.65530, Acc: 0.66658: 100%|██████████| 171/171 [00:01<00:00, 86.83it/s]\n"
     ]
    },
    {
     "name": "stdout",
     "output_type": "stream",
     "text": [
      "\n"
     ]
    },
    {
     "name": "stderr",
     "output_type": "stream",
     "text": [
      "Epoch 30, Loss: 0.44914, Acc: 0.79854: 100%|██████████| 1560/1560 [03:49<00:00,  6.80it/s]\n",
      "Validation Epoch 30, Loss: 0.65739, Acc: 0.66155: 100%|██████████| 171/171 [00:01<00:00, 85.60it/s]\n"
     ]
    },
    {
     "name": "stdout",
     "output_type": "stream",
     "text": [
      "\n"
     ]
    },
    {
     "name": "stderr",
     "output_type": "stream",
     "text": [
      "Epoch 31, Loss: 0.44886, Acc: 0.79949: 100%|██████████| 1560/1560 [03:49<00:00,  6.80it/s]\n",
      "Validation Epoch 31, Loss: 0.65680, Acc: 0.66155: 100%|██████████| 171/171 [00:01<00:00, 86.27it/s]\n"
     ]
    },
    {
     "name": "stdout",
     "output_type": "stream",
     "text": [
      "\n"
     ]
    },
    {
     "name": "stderr",
     "output_type": "stream",
     "text": [
      "Epoch 32, Loss: 0.44838, Acc: 0.79987: 100%|██████████| 1560/1560 [03:49<00:00,  6.80it/s]\n",
      "Validation Epoch 32, Loss: 0.65651, Acc: 0.66868: 100%|██████████| 171/171 [00:02<00:00, 85.41it/s]\n"
     ]
    },
    {
     "name": "stdout",
     "output_type": "stream",
     "text": [
      "\n"
     ]
    },
    {
     "name": "stderr",
     "output_type": "stream",
     "text": [
      "Epoch 33, Loss: 0.44795, Acc: 0.80060: 100%|██████████| 1560/1560 [03:49<00:00,  6.79it/s]\n",
      "Validation Epoch 33, Loss: 0.65894, Acc: 0.66237: 100%|██████████| 171/171 [00:01<00:00, 88.10it/s]\n"
     ]
    },
    {
     "name": "stdout",
     "output_type": "stream",
     "text": [
      "\n"
     ]
    },
    {
     "name": "stderr",
     "output_type": "stream",
     "text": [
      "Epoch 34, Loss: 0.44749, Acc: 0.79984: 100%|██████████| 1560/1560 [03:49<00:00,  6.81it/s]\n",
      "Validation Epoch 34, Loss: 0.65710, Acc: 0.66557: 100%|██████████| 171/171 [00:01<00:00, 86.07it/s]\n"
     ]
    },
    {
     "name": "stdout",
     "output_type": "stream",
     "text": [
      "\n"
     ]
    },
    {
     "name": "stderr",
     "output_type": "stream",
     "text": [
      "Epoch 35, Loss: 0.44742, Acc: 0.79995: 100%|██████████| 1560/1560 [03:49<00:00,  6.80it/s]\n",
      "Validation Epoch 35, Loss: 0.65862, Acc: 0.66292: 100%|██████████| 171/171 [00:01<00:00, 87.70it/s]\n"
     ]
    },
    {
     "name": "stdout",
     "output_type": "stream",
     "text": [
      "\n"
     ]
    },
    {
     "name": "stderr",
     "output_type": "stream",
     "text": [
      "Epoch 36, Loss: 0.44665, Acc: 0.80061: 100%|██████████| 1560/1560 [03:49<00:00,  6.81it/s]\n",
      "Validation Epoch 36, Loss: 0.66178, Acc: 0.66146: 100%|██████████| 171/171 [00:01<00:00, 88.38it/s]\n"
     ]
    },
    {
     "name": "stdout",
     "output_type": "stream",
     "text": [
      "\n"
     ]
    },
    {
     "name": "stderr",
     "output_type": "stream",
     "text": [
      "Epoch 37, Loss: 0.44686, Acc: 0.80106: 100%|██████████| 1560/1560 [03:49<00:00,  6.79it/s]\n",
      "Validation Epoch 37, Loss: 0.65997, Acc: 0.65945: 100%|██████████| 171/171 [00:02<00:00, 84.90it/s]\n"
     ]
    },
    {
     "name": "stdout",
     "output_type": "stream",
     "text": [
      "\n"
     ]
    },
    {
     "name": "stderr",
     "output_type": "stream",
     "text": [
      "Epoch 38, Loss: 0.44710, Acc: 0.80103: 100%|██████████| 1560/1560 [03:49<00:00,  6.81it/s]\n",
      "Validation Epoch 38, Loss: 0.65359, Acc: 0.66795: 100%|██████████| 171/171 [00:01<00:00, 86.15it/s]\n"
     ]
    },
    {
     "name": "stdout",
     "output_type": "stream",
     "text": [
      "\n"
     ]
    },
    {
     "name": "stderr",
     "output_type": "stream",
     "text": [
      "Epoch 39, Loss: 0.44660, Acc: 0.80060: 100%|██████████| 1560/1560 [03:49<00:00,  6.80it/s]\n",
      "Validation Epoch 39, Loss: 0.65265, Acc: 0.66128: 100%|██████████| 171/171 [00:02<00:00, 84.16it/s]\n"
     ]
    },
    {
     "name": "stdout",
     "output_type": "stream",
     "text": [
      "\n"
     ]
    },
    {
     "name": "stderr",
     "output_type": "stream",
     "text": [
      "Epoch 40, Loss: 0.44683, Acc: 0.80064: 100%|██████████| 1560/1560 [03:49<00:00,  6.80it/s]\n",
      "Validation Epoch 40, Loss: 0.66964, Acc: 0.66182: 100%|██████████| 171/171 [00:02<00:00, 85.17it/s]\n"
     ]
    },
    {
     "name": "stdout",
     "output_type": "stream",
     "text": [
      "\n"
     ]
    },
    {
     "name": "stderr",
     "output_type": "stream",
     "text": [
      "Epoch 41, Loss: 0.44616, Acc: 0.80064: 100%|██████████| 1560/1560 [03:49<00:00,  6.79it/s]\n",
      "Validation Epoch 41, Loss: 0.65413, Acc: 0.66045: 100%|██████████| 171/171 [00:01<00:00, 87.62it/s]\n"
     ]
    },
    {
     "name": "stdout",
     "output_type": "stream",
     "text": [
      "\n"
     ]
    },
    {
     "name": "stderr",
     "output_type": "stream",
     "text": [
      "Epoch 42, Loss: 0.44635, Acc: 0.80162: 100%|██████████| 1560/1560 [03:49<00:00,  6.80it/s]\n",
      "Validation Epoch 42, Loss: 0.66627, Acc: 0.66356: 100%|██████████| 171/171 [00:01<00:00, 85.51it/s]\n"
     ]
    },
    {
     "name": "stdout",
     "output_type": "stream",
     "text": [
      "\n"
     ]
    },
    {
     "name": "stderr",
     "output_type": "stream",
     "text": [
      "Epoch 43, Loss: 0.44597, Acc: 0.80139: 100%|██████████| 1560/1560 [03:49<00:00,  6.80it/s]\n",
      "Validation Epoch 43, Loss: 0.64867, Acc: 0.66758: 100%|██████████| 171/171 [00:02<00:00, 84.89it/s]\n"
     ]
    },
    {
     "name": "stdout",
     "output_type": "stream",
     "text": [
      "\n"
     ]
    },
    {
     "name": "stderr",
     "output_type": "stream",
     "text": [
      "Epoch 44, Loss: 0.44659, Acc: 0.80059: 100%|██████████| 1560/1560 [03:49<00:00,  6.80it/s]\n",
      "Validation Epoch 44, Loss: 0.65990, Acc: 0.66393: 100%|██████████| 171/171 [00:02<00:00, 85.15it/s]\n"
     ]
    },
    {
     "name": "stdout",
     "output_type": "stream",
     "text": [
      "\n"
     ]
    },
    {
     "name": "stderr",
     "output_type": "stream",
     "text": [
      "Epoch 45, Loss: 0.44570, Acc: 0.80177: 100%|██████████| 1560/1560 [03:49<00:00,  6.79it/s]\n",
      "Validation Epoch 45, Loss: 0.66013, Acc: 0.66438: 100%|██████████| 171/171 [00:02<00:00, 85.15it/s]\n"
     ]
    },
    {
     "name": "stdout",
     "output_type": "stream",
     "text": [
      "\n"
     ]
    },
    {
     "name": "stderr",
     "output_type": "stream",
     "text": [
      "Epoch 46, Loss: 0.44616, Acc: 0.80138: 100%|██████████| 1560/1560 [03:49<00:00,  6.80it/s]\n",
      "Validation Epoch 46, Loss: 0.66235, Acc: 0.65881: 100%|██████████| 171/171 [00:01<00:00, 85.68it/s]\n"
     ]
    },
    {
     "name": "stdout",
     "output_type": "stream",
     "text": [
      "\n"
     ]
    },
    {
     "name": "stderr",
     "output_type": "stream",
     "text": [
      "Epoch 47, Loss: 0.44582, Acc: 0.80144: 100%|██████████| 1560/1560 [03:49<00:00,  6.79it/s]\n",
      "Validation Epoch 47, Loss: 0.65766, Acc: 0.66283: 100%|██████████| 171/171 [00:01<00:00, 87.28it/s]\n"
     ]
    },
    {
     "name": "stdout",
     "output_type": "stream",
     "text": [
      "\n"
     ]
    },
    {
     "name": "stderr",
     "output_type": "stream",
     "text": [
      "Epoch 48, Loss: 0.44588, Acc: 0.80154: 100%|██████████| 1560/1560 [03:49<00:00,  6.80it/s]\n",
      "Validation Epoch 48, Loss: 0.65797, Acc: 0.66054: 100%|██████████| 171/171 [00:01<00:00, 86.74it/s]\n"
     ]
    },
    {
     "name": "stdout",
     "output_type": "stream",
     "text": [
      "\n"
     ]
    },
    {
     "name": "stderr",
     "output_type": "stream",
     "text": [
      "Epoch 49, Loss: 0.44544, Acc: 0.80095: 100%|██████████| 1560/1560 [03:49<00:00,  6.79it/s]\n",
      "Validation Epoch 49, Loss: 0.65647, Acc: 0.66703: 100%|██████████| 171/171 [00:01<00:00, 88.16it/s]"
     ]
    },
    {
     "name": "stdout",
     "output_type": "stream",
     "text": [
      "\n"
     ]
    },
    {
     "name": "stderr",
     "output_type": "stream",
     "text": [
      "\n"
     ]
    }
   ],
   "source": [
    "EPOCHS = 50\n",
    "train_losses = []\n",
    "val_losses = []\n",
    "best_loss = 1e9\n",
    "model.to(device)\n",
    "\n",
    "for epoch in range(EPOCHS):\n",
    "    train_loss = train(epoch)\n",
    "    val_loss = validate(epoch)\n",
    "    train_losses.append(train_loss)\n",
    "    val_losses.append(val_loss)\n",
    "    print()\n",
    "    if val_loss < best_loss:\n",
    "        best_loss = val_loss\n",
    "        torch.save(model.state_dict(), '../models/best_magnn.pt')"
   ]
  },
  {
   "cell_type": "code",
   "execution_count": 16,
   "metadata": {},
   "outputs": [
    {
     "data": {
      "image/png": "[encoded data removed]",
      "text/plain": [
       "<Figure size 640x480 with 1 Axes>"
      ]
     },
     "metadata": {},
     "output_type": "display_data"
    }
   ],
   "source": [
    "plt.plot(train_losses, label='Train loss')\n",
    "plt.plot(val_losses, label='Validation loss')\n",
    "plt.legend()\n",
    "plt.savefig('../reports/figures/losses.png')\n",
    "plt.show()"
   ]
  },
  {
   "cell_type": "code",
   "execution_count": 17,
   "metadata": {},
   "outputs": [],
   "source": [
    "path = '../benchmark/data/'\n",
    "\n",
    "in_file = open(path + 'user_metapaths.pickle', 'rb')\n",
    "benchmark_user_metapaths = pickle.load(in_file)\n",
    "in_file.close()\n",
    "\n",
    "in_file = open(path + 'movie_metapaths.pickle', 'rb')\n",
    "benchmark_movie_metapaths = pickle.load(in_file)\n",
    "in_file.close()\n",
    "\n",
    "benchmark_data = np.load(path + 'benchmark_dataset.npy')"
   ]
  },
  {
   "cell_type": "code",
   "execution_count": 18,
   "metadata": {},
   "outputs": [
    {
     "name": "stderr",
     "output_type": "stream",
     "text": [
      "Extracting user metapaths: 100%|██████████| 943/943 [00:01<00:00, 472.41it/s]\n",
      "Extracting movie metapaths: 100%|██████████| 1682/1682 [00:01<00:00, 1489.70it/s]\n"
     ]
    }
   ],
   "source": [
    "benchmark_dataset = UserMovieDataset(benchmark_data, benchmark_user_metapaths, benchmark_movie_metapaths, 100, 41, benchmark=True)\n",
    "\n",
    "benchmark_loader = DataLoader(benchmark_dataset, batch_size=BATCH_SIZE)"
   ]
  },
  {
   "cell_type": "code",
   "execution_count": 19,
   "metadata": {},
   "outputs": [
    {
     "data": {
      "text/plain": [
       "<All keys matched successfully>"
      ]
     },
     "execution_count": 19,
     "metadata": {},
     "output_type": "execute_result"
    }
   ],
   "source": [
    "model = MAGNN(num_user_features=num_user_features, \n",
    "              num_movie_features=num_movie_features, \n",
    "              hidden_dim=128, \n",
    "              out_dim=128, \n",
    "              num_heads=8, \n",
    "              dropout=0.2,\n",
    "              batch_size=BATCH_SIZE)\n",
    "model.load_state_dict(torch.load('../models/best_magnn.pt'))"
   ]
  },
  {
   "cell_type": "code",
   "execution_count": 20,
   "metadata": {},
   "outputs": [
    {
     "name": "stderr",
     "output_type": "stream",
     "text": [
      "  0%|          | 0/1317 [00:00<?, ?it/s]"
     ]
    },
    {
     "name": "stderr",
     "output_type": "stream",
     "text": [
      "100%|██████████| 1317/1317 [00:11<00:00, 113.39it/s]"
     ]
    },
    {
     "name": "stdout",
     "output_type": "stream",
     "text": [
      "mAP: 0.6403719166147395\n",
      "Accuracy: 0.5929669737815857\n"
     ]
    },
    {
     "name": "stderr",
     "output_type": "stream",
     "text": [
      "\n"
     ]
    }
   ],
   "source": [
    "model.to(device)\n",
    "model.eval()\n",
    "\n",
    "maps = []\n",
    "accs = []\n",
    "\n",
    "for batch in tqdm(benchmark_loader):\n",
    "    edge, label, umetapath1, umetapath2, umetapath3, mmetapath1, mmetapath2, mmetapath3 = batch\n",
    "    edge, label, umetapath1, umetapath2, umetapath3, mmetapath1, mmetapath2, mmetapath3 = \\\n",
    "        edge.to(device), label.to(device), umetapath1.to(device), umetapath2.to(device), umetapath3.to(device), mmetapath1.to(device), mmetapath2.to(device), mmetapath3.to(device)\n",
    "\n",
    "    out = model(edge, umetapath1, umetapath2, umetapath3, mmetapath1, mmetapath2, mmetapath3)\n",
    "    pred = (out > 0.5)\n",
    "    acc = (pred == label.reshape(-1, 1)).sum() / BATCH_SIZE\n",
    "\n",
    "    accs.append(acc.cpu())\n",
    "    maps.append(average_precision_score(label.reshape(-1, 1).cpu().detach().numpy(), out.cpu().detach().numpy()))\n",
    "\n",
    "print(f'mAP: {np.mean(maps)}')\n",
    "print(f'Accuracy: {np.mean(accs)}')"
   ]
  }
 ],
 "metadata": {
  "kernelspec": {
   "display_name": "Python 3",
   "language": "python",
   "name": "python3"
  },
  "language_info": {
   "codemirror_mode": {
    "name": "ipython",
    "version": 3
   },
   "file_extension": ".py",
   "mimetype": "text/x-python",
   "name": "python",
   "nbconvert_exporter": "python",
   "pygments_lexer": "ipython3",
   "version": "3.11.3"
  }
 },
 "nbformat": 4,
 "nbformat_minor": 2
}
