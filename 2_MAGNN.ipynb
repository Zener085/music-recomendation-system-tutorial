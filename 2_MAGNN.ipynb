{
 "cells": [
  {
   "cell_type": "markdown",
   "metadata": {
    "collapsed": false
   },
   "source": [
    "Hello! Here you can find how to implement GNN and how to use it for RecSys.\n",
    "We will recommend music to users\n",
    "using [MAGNN architecture](https://arxiv.org/pdf/2002.01680.pdf) and [LastFM dataset](https://pytorch-geometric.readthedocs.io/en/latest/generated/torch_geometric.datasets.LastFM.html).\n",
    "Specifically, the model will be used for \"link prediction\" task by using collaborative filtering.\n",
    "\n",
    "First of all, let's import everything for the work."
   ]
  },
  {
   "cell_type": "code",
   "execution_count": 27,
   "metadata": {
    "ExecuteTime": {
     "end_time": "2023-12-12T15:27:37.761995300Z",
     "start_time": "2023-12-12T15:27:24.563945300Z"
    }
   },
   "outputs": [],
   "source": [
    "import matplotlib.pyplot as plt\n",
    "import networkx as nx\n",
    "import numpy as np\n",
    "import pandas as pd\n",
    "import pickle\n",
    "\n",
    "import torch\n",
    "import torch.nn as nn\n",
    "import torch.nn.functional as F\n",
    "from torch.utils.data import Dataset, DataLoader\n",
    "from torch_geometric.datasets import LastFM\n",
    "\n",
    "from sklearn.metrics import average_precision_score, roc_auc_score\n",
    "from tqdm import tqdm\n",
    "\n",
    "from collections import defaultdict"
   ]
  },
  {
   "cell_type": "code",
   "execution_count": 28,
   "metadata": {
    "ExecuteTime": {
     "end_time": "2023-12-12T15:27:37.786172300Z",
     "start_time": "2023-12-12T15:27:37.761995300Z"
    }
   },
   "outputs": [
    {
     "data": {
      "text/plain": [
       "<torch._C.Generator at 0x18f76c92490>"
      ]
     },
     "execution_count": 28,
     "metadata": {},
     "output_type": "execute_result"
    }
   ],
   "source": [
    "np.random.seed(1337)\n",
    "torch.manual_seed(1337)"
   ]
  },
  {
   "cell_type": "code",
   "execution_count": 29,
   "metadata": {
    "ExecuteTime": {
     "end_time": "2023-12-12T15:27:37.843692800Z",
     "start_time": "2023-12-12T15:27:37.777194400Z"
    }
   },
   "outputs": [],
   "source": [
    "NUM_USERS = 1892\n",
    "NUM_MOVIES = 17632\n",
    "BATCH_SIZE = 64\n",
    "\n",
    "num_user_features = 1\n",
    "num_movie_features = 1\n",
    "\n",
    "device = \"cuda\" if torch.cuda.is_available() else \"cpu\""
   ]
  },
  {
   "cell_type": "markdown",
   "metadata": {
    "collapsed": false
   },
   "source": [
    "Let's extract the dataset and create a new feature for it. We should do it to increase the accuracy of the model in the future. This number represents the similarity or closeness between the two users.\n",
    "In collaborative filtering, similarity is often measured based on the users' preferences, behaviors, or interactions with items (in this case, probably music tracks on LastFM).\n",
    "The value between 0 and 1 indicates the degree of similarity, with 1 being a perfect match (users are very similar), and 0 being no similarity."
   ]
  },
  {
   "cell_type": "code",
   "execution_count": 30,
   "metadata": {
    "ExecuteTime": {
     "end_time": "2023-12-12T15:27:41.937638600Z",
     "start_time": "2023-12-12T15:27:37.828734Z"
    }
   },
   "outputs": [],
   "source": [
    "# Loading initial dataset\n",
    "dataset = LastFM(\"data/raw/LastFM\")\n",
    "\n",
    "# Loading preprocessed data\n",
    "path = \"./data/raw/LastFM/raw/\"\n",
    "\n",
    "# Extract features from dataset \n",
    "user_sums = defaultdict(lambda: torch.tensor(0))\n",
    "user_counts = defaultdict(lambda: torch.tensor(0))\n",
    "with open(path + \"user_user(knn).dat\") as f:\n",
    "    for line in f:\n",
    "        u1, _, w = map(float, line.split())\n",
    "        u1 = int(u1)\n",
    "        user_sums[u1] = user_sums[u1] + w\n",
    "        user_counts[u1] += 1\n",
    "\n",
    "movie_sums = defaultdict(lambda: torch.tensor(0))\n",
    "movie_counts = defaultdict(lambda: torch.tensor(0))\n",
    "with open(path + \"artist_artist(knn).dat\") as f:\n",
    "    for line in f:\n",
    "        u1, _, w = map(float, line.split())\n",
    "        u1 = int(u1)\n",
    "        movie_sums[u1] = movie_sums[u1] + w\n",
    "        movie_counts[u1] += 1\n",
    "\n",
    "# Take average value\n",
    "user_features = {i: (user_sums[i] / user_counts[i]).clone().detach() for i in user_sums}\n",
    "movie_features = {i: (movie_sums[i] / movie_counts[i]).clone().detach() for i in movie_sums}\n",
    "\n",
    "user_features = defaultdict(lambda: torch.tensor(0), user_features)\n",
    "movie_features = defaultdict(lambda: torch.tensor(0), movie_features)\n"
   ]
  },
  {
   "cell_type": "code",
   "execution_count": 31,
   "metadata": {
    "ExecuteTime": {
     "end_time": "2023-12-12T15:27:41.953726200Z",
     "start_time": "2023-12-12T15:27:41.940631300Z"
    }
   },
   "outputs": [],
   "source": [
    "dataset = dataset[0]"
   ]
  },
  {
   "cell_type": "markdown",
   "metadata": {
    "collapsed": false
   },
   "source": [
    "Now we will preprocess data and then split it to train and validation sets."
   ]
  },
  {
   "cell_type": "code",
   "execution_count": 32,
   "metadata": {
    "ExecuteTime": {
     "end_time": "2023-12-12T15:28:52.550996400Z",
     "start_time": "2023-12-12T15:27:57.080233600Z"
    }
   },
   "outputs": [
    {
     "name": "stderr",
     "output_type": "stream",
     "text": [
      "100%|██████████| 1892/1892 [00:36<00:00, 52.09it/s]\n"
     ]
    }
   ],
   "source": [
    "edge_index = dataset[\"user\", \"to\", \"artist\"][\"edge_index\"]\n",
    "train_movie_metapaths = defaultdict(lambda: np.zeros(shape=(0, 3)))\n",
    "for i in tqdm(edge_index[0].unique()):\n",
    "    neighbors = torch.where((edge_index[0] == i).clone().detach(), edge_index, -1)[1].unique()[1:]\n",
    "    comb = torch.combinations(neighbors, with_replacement=True)\n",
    "    col = torch.ones(size=(comb.shape[0], 1)) * i\n",
    "    meta_paths = torch.hstack((comb[:, :1], col, comb[:, 1:]))\n",
    "    for path in meta_paths:\n",
    "        train_movie_metapaths[int(path[0])] = np.vstack((train_movie_metapaths[int(path[0])], path))"
   ]
  },
  {
   "cell_type": "code",
   "execution_count": 33,
   "metadata": {
    "ExecuteTime": {
     "end_time": "2023-12-12T15:28:59.111369700Z",
     "start_time": "2023-12-12T15:28:52.552991Z"
    },
    "collapsed": false
   },
   "outputs": [
    {
     "name": "stderr",
     "output_type": "stream",
     "text": [
      "100%|██████████| 1863/1863 [00:03<00:00, 478.03it/s]\n"
     ]
    }
   ],
   "source": [
    "edge_index = dataset[\"user\", \"to\", \"artist\"][\"test_pos_edge_index\"]\n",
    "test_movie_metapaths = defaultdict(lambda: np.zeros(shape=(0, 3)))\n",
    "for i in tqdm(edge_index[0].unique()):\n",
    "    neighbors = torch.where((edge_index[0] == i).clone().detach(), edge_index, -1)[1].unique()[1:]\n",
    "    comb = torch.combinations(neighbors, with_replacement=True)\n",
    "    col = torch.ones(size=(comb.shape[0], 1)) * i\n",
    "    meta_paths = torch.hstack((comb[:, :1], col, comb[:, 1:]))\n",
    "    for path in meta_paths:\n",
    "        test_movie_metapaths[int(path[0])] = np.vstack((test_movie_metapaths[int(path[0])], path))"
   ]
  },
  {
   "cell_type": "code",
   "execution_count": 34,
   "metadata": {
    "ExecuteTime": {
     "end_time": "2023-12-12T15:30:27.845560100Z",
     "start_time": "2023-12-12T15:28:59.111369700Z"
    }
   },
   "outputs": [
    {
     "name": "stderr",
     "output_type": "stream",
     "text": [
      "100%|██████████| 17632/17632 [00:59<00:00, 296.35it/s] \n"
     ]
    }
   ],
   "source": [
    "edge_index = dataset[\"artist\", \"to\", \"user\"][\"edge_index\"]\n",
    "train_user_metapaths = defaultdict(lambda: np.zeros(shape=(0, 3)))\n",
    "for i in tqdm(edge_index[0].unique()):\n",
    "    neighbors = torch.where((edge_index[0] == i).clone().detach(), edge_index, -1)[1].unique()[1:]\n",
    "    comb = torch.combinations(neighbors, with_replacement=True)\n",
    "    col = torch.ones(size=(comb.shape[0], 1)) * i\n",
    "    meta_paths = torch.hstack((comb[:, :1], col, comb[:, 1:]))\n",
    "    for path in meta_paths:\n",
    "        train_user_metapaths[int(path[0])] = np.vstack((train_user_metapaths[int(path[0])], path))"
   ]
  },
  {
   "cell_type": "code",
   "execution_count": 35,
   "metadata": {
    "ExecuteTime": {
     "end_time": "2023-12-12T15:30:38.930458100Z",
     "start_time": "2023-12-12T15:30:27.848552500Z"
    }
   },
   "outputs": [
    {
     "name": "stderr",
     "output_type": "stream",
     "text": [
      "100%|██████████| 4041/4041 [00:08<00:00, 488.62it/s] \n"
     ]
    }
   ],
   "source": [
    "edge_index = dataset[\"user\", \"to\", \"artist\"][\"test_pos_edge_index\"]\n",
    "test_user_metapaths = defaultdict(lambda: np.zeros(shape=(0, 3)))\n",
    "for i in tqdm(edge_index[1].unique()):\n",
    "    neighbors = torch.where((edge_index[1] == i).clone().detach(), edge_index, -1)[0].unique()[1:]\n",
    "    comb = torch.combinations(neighbors, with_replacement=True)\n",
    "    col = torch.ones(size=(comb.shape[0], 1)) * i\n",
    "    meta_paths = torch.hstack((comb[:, :1], col, comb[:, 1:]))\n",
    "    for path in meta_paths:\n",
    "        test_user_metapaths[int(path[0])] = np.vstack((test_user_metapaths[int(path[0])], path))"
   ]
  },
  {
   "cell_type": "code",
   "execution_count": 36,
   "metadata": {
    "ExecuteTime": {
     "end_time": "2023-12-12T15:30:38.932452600Z",
     "start_time": "2023-12-12T15:30:38.915745100Z"
    }
   },
   "outputs": [],
   "source": [
    "neg_edge_index = dataset[\"user\", \"to\", \"artist\"][\"train_neg_edge_index\"]\n",
    "\n",
    "train_pos = dataset[\"user\", \"to\", \"artist\"][\"edge_index\"]\n",
    "train_neg = neg_edge_index[:, :train_pos.shape[1]]\n",
    "\n",
    "test_pos = dataset[\"user\", \"to\", \"artist\"][\"test_pos_edge_index\"]\n",
    "test_neg = dataset[\"user\", \"to\", \"artist\"][\"test_neg_edge_index\"][:, :test_pos.shape[1]]"
   ]
  },
  {
   "cell_type": "markdown",
   "metadata": {
    "collapsed": false
   },
   "source": [
    "We also might need to do preprocess flow:"
   ]
  },
  {
   "cell_type": "code",
   "execution_count": 40,
   "metadata": {
    "ExecuteTime": {
     "end_time": "2023-12-12T11:58:27.032884800Z",
     "start_time": "2023-12-12T11:58:27.011031100Z"
    }
   },
   "outputs": [],
   "source": [
    "class UserMovieDataset(Dataset):\n",
    "    \"\"\"Dataset for MAGNN training and evaluation\"\"\"\n",
    "\n",
    "    def __init__(self, positives: torch.Tensor, user_meta_paths: defaultdict, movie_meta_paths: defaultdict,\n",
    "                 max_user_size: int, max_movie_size: int, negatives=None, benchmark: bool = False):\n",
    "        self.benchmark = benchmark\n",
    "        self.max_user_size = max_user_size\n",
    "        self.max_movie_size = max_movie_size\n",
    "\n",
    "        self.user_meta_paths = user_meta_paths.copy()\n",
    "        self.movie_meta_paths = movie_meta_paths.copy()\n",
    "        self.merge_meta_paths()\n",
    "\n",
    "        self.pos = positives.numpy()\n",
    "        self.neg = negatives.numpy()\n",
    "\n",
    "        self.data = torch.tensor(np.vstack([self.pos.T, self.neg.T]))\n",
    "        self.labels = torch.vstack([torch.ones((len(self.pos.T), 1)), torch.zeros((len(self.neg.T), 1))])\n",
    "\n",
    "    def merge_meta_paths(self):\n",
    "        for key, val in tqdm(self.user_meta_paths.items(), desc=\"Extracting user meta-paths\"):\n",
    "            if len(self.user_meta_paths[key]) > 0:\n",
    "                self.user_meta_paths[key] = [torch.vstack([user_features[i] for i in val[:, 0]])[:self.max_user_size],\n",
    "                                             torch.vstack([movie_features[i] for i in val[:, 1]])[:self.max_user_size],\n",
    "                                             torch.vstack([user_features[i] for i in val[:, 2]])[:self.max_user_size]]\n",
    "                while len(self.user_meta_paths[key][0]) < self.max_user_size:\n",
    "                    self.user_meta_paths[key][0] = torch.vstack(\n",
    "                        [self.user_meta_paths[key][0], torch.zeros_like(self.user_meta_paths[key][0][0])])\n",
    "                    self.user_meta_paths[key][1] = torch.vstack(\n",
    "                        [self.user_meta_paths[key][1], torch.zeros_like(self.user_meta_paths[key][1][0])])\n",
    "                    self.user_meta_paths[key][2] = torch.vstack(\n",
    "                        [self.user_meta_paths[key][2], torch.zeros_like(self.user_meta_paths[key][2][0])])\n",
    "\n",
    "        for key, val in tqdm(self.movie_meta_paths.items(), desc=\"Extracting movie meta-paths\"):\n",
    "            if len(self.movie_meta_paths[key]) > 0:\n",
    "                self.movie_meta_paths[key] = [\n",
    "                    torch.vstack([movie_features[i] for i in val[:, 0]])[:self.max_movie_size],\n",
    "                    torch.vstack([user_features[i] for i in val[:, 1]])[:self.max_movie_size],\n",
    "                    torch.vstack([movie_features[i] for i in val[:, 2]])[:self.max_movie_size]]\n",
    "                while len(self.movie_meta_paths[key][0]) < self.max_movie_size:\n",
    "                    self.movie_meta_paths[key][0] = torch.vstack(\n",
    "                        [self.movie_meta_paths[key][0], torch.zeros_like(self.movie_meta_paths[key][0][0])])\n",
    "                    self.movie_meta_paths[key][1] = torch.vstack(\n",
    "                        [self.movie_meta_paths[key][1], torch.zeros_like(self.movie_meta_paths[key][1][0])])\n",
    "                    self.movie_meta_paths[key][2] = torch.vstack(\n",
    "                        [self.movie_meta_paths[key][2], torch.zeros_like(self.movie_meta_paths[key][2][0])])\n",
    "\n",
    "    def __getitem__(self, idx):\n",
    "        user_id, movie_id = self.data[idx]\n",
    "\n",
    "        if len(self.user_meta_paths[user_id.item()]) == 0:\n",
    "            key = user_id.item()\n",
    "            self.user_meta_paths[key] = [torch.Tensor([0]), torch.Tensor([0]), torch.Tensor([0])]\n",
    "            while len(self.user_meta_paths[key][0]) < self.max_user_size:\n",
    "                self.user_meta_paths[key][0] = torch.vstack(\n",
    "                    [self.user_meta_paths[key][0], torch.zeros_like(self.user_meta_paths[key][0][0])])\n",
    "                self.user_meta_paths[key][1] = torch.vstack(\n",
    "                    [self.user_meta_paths[key][1], torch.zeros_like(self.user_meta_paths[key][1][0])])\n",
    "                self.user_meta_paths[key][2] = torch.vstack(\n",
    "                    [self.user_meta_paths[key][2], torch.zeros_like(self.user_meta_paths[key][2][0])])\n",
    "\n",
    "        if len(self.movie_meta_paths[movie_id.item()]) == 0:\n",
    "            key = movie_id.item()\n",
    "            self.movie_meta_paths[key] = [torch.Tensor([0]), torch.Tensor([0]), torch.Tensor([0])]\n",
    "            while len(self.movie_meta_paths[key][0]) < self.max_movie_size:\n",
    "                self.movie_meta_paths[key][0] = torch.vstack(\n",
    "                    [self.movie_meta_paths[key][0], torch.zeros_like(self.movie_meta_paths[key][0][0])])\n",
    "                self.movie_meta_paths[key][1] = torch.vstack(\n",
    "                    [self.movie_meta_paths[key][1], torch.zeros_like(self.movie_meta_paths[key][1][0])])\n",
    "                self.movie_meta_paths[key][2] = torch.vstack(\n",
    "                    [self.movie_meta_paths[key][2], torch.zeros_like(self.movie_meta_paths[key][2][0])])\n",
    "\n",
    "        return self.data[idx], self.labels[idx], *self.user_meta_paths[user_id.item()], *self.movie_meta_paths[\n",
    "            movie_id.item()]\n",
    "\n",
    "    def __len__(self):\n",
    "        return len(self.data)"
   ]
  },
  {
   "cell_type": "code",
   "execution_count": 42,
   "metadata": {
    "ExecuteTime": {
     "end_time": "2023-12-12T12:00:11.192838200Z",
     "start_time": "2023-12-12T11:58:27.047659Z"
    }
   },
   "outputs": [
    {
     "name": "stdout",
     "output_type": "stream",
     "text": [
      "Train Dataset:\n"
     ]
    },
    {
     "name": "stderr",
     "output_type": "stream",
     "text": [
      "Extracting user meta-paths: 100%|██████████| 1892/1892 [00:34<00:00, 54.55it/s]\n",
      "Extracting movie meta-paths: 100%|██████████| 17632/17632 [00:38<00:00, 462.16it/s]\n"
     ]
    },
    {
     "name": "stdout",
     "output_type": "stream",
     "text": [
      "Test Dataset:\n"
     ]
    },
    {
     "name": "stderr",
     "output_type": "stream",
     "text": [
      "Extracting user meta-paths: 100%|██████████| 1863/1863 [00:04<00:00, 383.52it/s]\n",
      "Extracting movie meta-paths: 100%|██████████| 4041/4041 [00:03<00:00, 1149.22it/s]\n"
     ]
    }
   ],
   "source": [
    "print(\"Train Dataset:\")\n",
    "train_dataset = UserMovieDataset(train_pos, train_user_metapaths, train_movie_metapaths, 905, 67, train_neg)\n",
    "print(\"Test Dataset:\")\n",
    "test_dataset = UserMovieDataset(test_pos, test_user_metapaths, test_movie_metapaths, 131, 28, test_neg, benchmark=True)"
   ]
  },
  {
   "cell_type": "code",
   "execution_count": 43,
   "metadata": {
    "ExecuteTime": {
     "end_time": "2023-12-12T12:00:11.225651700Z",
     "start_time": "2023-12-12T12:00:11.189996100Z"
    }
   },
   "outputs": [],
   "source": [
    "train_loader = DataLoader(train_dataset, batch_size=BATCH_SIZE, shuffle=True)\n",
    "test_loader = DataLoader(test_dataset, batch_size=BATCH_SIZE, shuffle=False)"
   ]
  },
  {
   "cell_type": "markdown",
   "metadata": {
    "collapsed": false
   },
   "source": [
    "So let's implement our model.\n",
    "We will take a MAGNN for this data. It has many disadvantages:\n",
    "- it can learn from multiple graphs simultaneously;\n",
    "- it can model long-range dependencies that many common GNN cannot.\n",
    "\n",
    "But there is also a disadvantage of the model: it's computationally expensive when we use datasets with a large number of nodes and edges. You will see it a bit later.\n",
    "Let's look at the architecture closer.\n",
    "\n",
    "---\n",
    "\n",
    "## MAGNN workflow ##\n",
    "Specifically, MAGNN first applies type-specific linear transformations to project heterogeneous node attributes, with possibly unequal dimensions for different node\n",
    "types, to the same latent vector space. Next, MAGNN applies intra-metapath aggregation with the attention mechanism for every metapath.\n",
    "During this intrametapath aggregation, each target node extracts and combines information from the metapath instances connecting the node with its metapath-based neighbors.\n",
    "In this way, MAGNN captures the structural and semantic information of heterogeneous graphs from both neighbor nodes and the metapath context in between.\n",
    "Following intra-metapath aggregation, MAGNN further conducts intermetapath aggregation using the attention mechanism to fuse latent vectors obtained from\n",
    "multiple metapaths into final node embeddings. By integrating multiple metapaths, our model can learn the comprehensive semantics ingrained in the heterogeneous graph.\n",
    "\n",
    "MAGNN is constructed by three major components: node content transformation, intra-metapath aggregation, and inter-metapath aggregation.\n",
    "Here's an illustration of the embedding generation of a single node:\n",
    "![](images/workflow.png)"
   ]
  },
  {
   "cell_type": "code",
   "execution_count": 44,
   "metadata": {
    "ExecuteTime": {
     "end_time": "2023-12-12T15:21:46.624233500Z",
     "start_time": "2023-12-12T15:21:46.606358200Z"
    }
   },
   "outputs": [],
   "source": [
    "class GraphAttention(nn.Module):\n",
    "    \"\"\"Attention layer for encoded metapaths\"\"\"\n",
    "\n",
    "    def __init__(self, hidden_dim: int, num_heads: int, dropout: float):\n",
    "        super().__init__()\n",
    "        self.hidden_dim = hidden_dim\n",
    "        self.query = nn.Linear(hidden_dim, hidden_dim)\n",
    "        self.key = nn.Linear(hidden_dim, hidden_dim)\n",
    "        self.value = nn.Linear(hidden_dim, hidden_dim)\n",
    "        self.attention = nn.MultiheadAttention(hidden_dim, num_heads, dropout=dropout, batch_first=True)\n",
    "\n",
    "    def forward(self, x: torch.Tensor):\n",
    "        queries = self.query(x)\n",
    "        keys = self.key(x)\n",
    "        values = self.value(x)\n",
    "        weighted, _ = self.attention(queries, keys, values)\n",
    "        return weighted\n",
    "\n",
    "\n",
    "class MetapathEncoder(nn.Module):\n",
    "    \"\"\"Inter-metapath aggregator\"\"\"\n",
    "\n",
    "    def __init__(self, in_dim: int, out_dim: int):\n",
    "        super().__init__()\n",
    "        self.fc = nn.Linear(in_dim, out_dim)\n",
    "\n",
    "    def forward(self, metapath):\n",
    "        x = torch.mean(metapath, dim=1)\n",
    "        return self.fc(x)\n",
    "\n",
    "\n",
    "class MAGNN(nn.Module):\n",
    "    \"\"\"MAGNN architecture, but simplified for only 1 metapath per node type (due to computing powers limitation)\"\"\"\n",
    "\n",
    "    def __init__(self, num_user_features: int, num_movie_features: int, hidden_dim: int, out_dim: int, num_heads: int, dropout: float, batch_size: int):\n",
    "        super().__init__()\n",
    "        self.hidden_dim = hidden_dim\n",
    "        self.batch_size = batch_size\n",
    "\n",
    "        self.num_user_features = num_user_features\n",
    "        self.num_movie_features = num_movie_features\n",
    "\n",
    "        self.user_feature_encoder = nn.Linear(self.num_user_features, hidden_dim)\n",
    "        self.movie_feature_encoder = nn.Linear(self.num_movie_features, hidden_dim)\n",
    "\n",
    "        self.user_metapath_encoder = MetapathEncoder(hidden_dim, hidden_dim)\n",
    "        self.user_metapath_attention = GraphAttention(hidden_dim, num_heads, dropout)\n",
    "\n",
    "        self.movie_metapath_encoder = MetapathEncoder(hidden_dim, hidden_dim)\n",
    "        self.movie_metapath_attention = GraphAttention(hidden_dim, num_heads, dropout)\n",
    "\n",
    "        self.user_node_embedding = nn.Linear(hidden_dim, out_dim)\n",
    "        self.user_dropout = nn.Dropout(dropout)\n",
    "\n",
    "        self.movie_node_embedding = nn.Linear(hidden_dim, out_dim)  #, dropout)  # TODO тут ведь не Dropout, а bias\n",
    "        self.movie_dropout = nn.Dropout(dropout)\n",
    "\n",
    "        self.recommender = nn.Linear(2 * out_dim, 1)\n",
    "\n",
    "    def forward(self, _, user_metapaths1, user_metapaths2, user_metapaths3, movie_metapaths1, movie_metapaths2, movie_metapaths3):\n",
    "        \"\"\"\n",
    "        Forward propagation of the model.\n",
    "        \n",
    "        You can find the pseudocode of the function in the paper that was mentioned in the beginning.\n",
    "        \"\"\"\n",
    "        user_metapath_instance = torch.cat([\n",
    "            self.user_feature_encoder(user_metapaths1),\n",
    "            self.movie_feature_encoder(user_metapaths2),\n",
    "            self.user_feature_encoder(user_metapaths3)\n",
    "        ], dim=1)\n",
    "        user_aggregated_metapath = F.tanh(self.user_metapath_encoder(user_metapath_instance))\n",
    "        user_aggregated_metapath = self.user_metapath_attention(user_aggregated_metapath)\n",
    "\n",
    "        movie_metapath_instance = torch.cat([\n",
    "            self.movie_feature_encoder(movie_metapaths1),\n",
    "            self.user_feature_encoder(movie_metapaths2),\n",
    "            self.movie_feature_encoder(movie_metapaths3)\n",
    "        ], dim=1)\n",
    "        movie_aggregated_metapath = F.tanh(self.movie_metapath_encoder(movie_metapath_instance))\n",
    "        movie_aggregated_metapath = self.movie_metapath_attention(movie_aggregated_metapath)\n",
    "\n",
    "        user_embed = self.user_dropout(F.sigmoid(self.user_node_embedding(user_aggregated_metapath)))\n",
    "        movie_embed = self.movie_dropout(F.sigmoid(self.movie_node_embedding(movie_aggregated_metapath)))\n",
    "\n",
    "        return F.sigmoid(self.recommender(torch.cat([user_embed, movie_embed], dim=1)))"
   ]
  },
  {
   "cell_type": "code",
   "execution_count": 45,
   "metadata": {
    "ExecuteTime": {
     "end_time": "2023-12-12T12:00:11.337977400Z",
     "start_time": "2023-12-12T12:00:11.229642700Z"
    }
   },
   "outputs": [],
   "source": [
    "model = MAGNN(num_user_features, num_movie_features, 128, 128, 8, 0.2, BATCH_SIZE)"
   ]
  },
  {
   "cell_type": "markdown",
   "metadata": {
    "collapsed": false
   },
   "source": [
    "To train the model we will use BCELoss and Adam optimizer. All settings you may see below."
   ]
  },
  {
   "cell_type": "code",
   "execution_count": 46,
   "metadata": {
    "ExecuteTime": {
     "end_time": "2023-12-12T12:00:11.370888900Z",
     "start_time": "2023-12-12T12:00:11.271285800Z"
    }
   },
   "outputs": [],
   "source": [
    "criterion = nn.BCELoss()\n",
    "optimizer = torch.optim.Adam(model.parameters(), lr=2e-5, weight_decay=2e-7)"
   ]
  },
  {
   "cell_type": "code",
   "execution_count": 47,
   "metadata": {
    "ExecuteTime": {
     "end_time": "2023-12-12T12:00:11.373880500Z",
     "start_time": "2023-12-12T12:00:11.275785600Z"
    }
   },
   "outputs": [],
   "source": [
    "def train(epoch: int):\n",
    "    losses = []\n",
    "    accs = []\n",
    "\n",
    "    model.train()\n",
    "    progress_bar = tqdm(train_loader, f\"Epoch {epoch}\")\n",
    "    for batch in progress_bar:\n",
    "        edge, label, umetapath1, umetapath2, umetapath3, mmetapath1, mmetapath2, mmetapath3 = batch\n",
    "        edge, label, umetapath1, umetapath2, umetapath3, mmetapath1, mmetapath2, mmetapath3 = \\\n",
    "            edge.to(device), label.to(device), umetapath1.to(device), umetapath2.to(device), umetapath3.to(\n",
    "                device), mmetapath1.to(device), mmetapath2.to(device), mmetapath3.to(device)\n",
    "\n",
    "        optimizer.zero_grad()\n",
    "\n",
    "        out = model(edge, umetapath1, umetapath2, umetapath3, mmetapath1, mmetapath2, mmetapath3)\n",
    "\n",
    "        pred = (out > 0.5)\n",
    "\n",
    "        loss = criterion(out, label)\n",
    "        acc = (pred == label).sum() / BATCH_SIZE\n",
    "\n",
    "        losses.append(loss.item())\n",
    "        accs.append(acc.cpu())\n",
    "\n",
    "        loss.backward()\n",
    "        optimizer.step()\n",
    "\n",
    "        progress_bar.set_description(f\"Epoch {epoch}, Loss: {np.mean(losses):.5f}, Acc: {np.mean(accs):.5f}\")\n",
    "\n",
    "    return np.mean(losses)\n",
    "\n",
    "\n",
    "def validate(epoch: int):\n",
    "    losses = []\n",
    "    accs = []\n",
    "\n",
    "    model.eval()\n",
    "    progress_bar = tqdm(test_loader)\n",
    "    for batch in progress_bar:\n",
    "        edge, label, umetapath1, umetapath2, umetapath3, mmetapath1, mmetapath2, mmetapath3 = batch\n",
    "        edge, label, umetapath1, umetapath2, umetapath3, mmetapath1, mmetapath2, mmetapath3 = \\\n",
    "            edge.to(device), label.to(device), umetapath1.to(device), umetapath2.to(device), umetapath3.to(\n",
    "                device), mmetapath1.to(device), mmetapath2.to(device), mmetapath3.to(device)\n",
    "\n",
    "        out = model(edge, umetapath1, umetapath2, umetapath3, mmetapath1, mmetapath2, mmetapath3)\n",
    "\n",
    "        pred = (out > 0.5)\n",
    "\n",
    "        loss = criterion(out, label)\n",
    "        acc = (pred == label).sum() / BATCH_SIZE\n",
    "\n",
    "        losses.append(loss.item())\n",
    "        accs.append(acc.cpu())\n",
    "\n",
    "        progress_bar.set_description(f\"Validation Epoch {epoch}, Loss: {np.mean(losses):.5f}, Acc: {np.mean(accs):.5f}\")\n",
    "\n",
    "    return np.mean(losses)"
   ]
  },
  {
   "cell_type": "code",
   "execution_count": 48,
   "metadata": {
    "ExecuteTime": {
     "end_time": "2023-12-12T12:00:11.375875100Z",
     "start_time": "2023-12-12T12:00:11.299568800Z"
    }
   },
   "outputs": [],
   "source": [
    "torch.cuda.empty_cache()"
   ]
  },
  {
   "cell_type": "code",
   "execution_count": 49,
   "metadata": {
    "ExecuteTime": {
     "end_time": "2023-12-12T12:35:52.405457900Z",
     "start_time": "2023-12-12T12:00:11.315039900Z"
    }
   },
   "outputs": [
    {
     "name": "stderr",
     "output_type": "stream",
     "text": [
      "Epoch 0:   0%|          | 0/2031 [00:00<?, ?it/s]"
     ]
    },
    {
     "name": "stderr",
     "output_type": "stream",
     "text": [
      "Epoch 0, Loss: 0.64710, Acc: 0.60504: 100%|██████████| 2031/2031 [00:44<00:00, 45.65it/s]\n",
      "Validation Epoch 0, Loss: 0.49078, Acc: 0.84281: 100%|██████████| 581/581 [00:17<00:00, 33.66it/s] \n"
     ]
    },
    {
     "name": "stdout",
     "output_type": "stream",
     "text": []
    },
    {
     "name": "stderr",
     "output_type": "stream",
     "text": [
      "Epoch 1, Loss: 0.58588, Acc: 0.72608:  74%|███████▍  | 1508/2031 [00:30<00:10, 49.18it/s]\n"
     ]
    },
    {
     "ename": "KeyboardInterrupt",
     "evalue": "",
     "output_type": "error",
     "traceback": [
      "\u001B[1;31m---------------------------------------------------------------------------\u001B[0m",
      "\u001B[1;31mKeyboardInterrupt\u001B[0m                         Traceback (most recent call last)",
      "Cell \u001B[1;32mIn[49], line 8\u001B[0m\n\u001B[0;32m      6\u001B[0m \u001B[38;5;66;03m# TODO почему тут вывод не сохраняется?\u001B[39;00m\n\u001B[0;32m      7\u001B[0m \u001B[38;5;28;01mfor\u001B[39;00m epoch \u001B[38;5;129;01min\u001B[39;00m \u001B[38;5;28mrange\u001B[39m(EPOCHS):\n\u001B[1;32m----> 8\u001B[0m     train_loss \u001B[38;5;241m=\u001B[39m train(epoch)\n\u001B[0;32m      9\u001B[0m     val_loss \u001B[38;5;241m=\u001B[39m validate(epoch)\n\u001B[0;32m     10\u001B[0m     train_losses\u001B[38;5;241m.\u001B[39mappend(train_loss)\n",
      "Cell \u001B[1;32mIn[47], line 28\u001B[0m, in \u001B[0;36mtrain\u001B[1;34m(epoch)\u001B[0m\n\u001B[0;32m     25\u001B[0m     loss\u001B[38;5;241m.\u001B[39mbackward()\n\u001B[0;32m     26\u001B[0m     optimizer\u001B[38;5;241m.\u001B[39mstep()\n\u001B[1;32m---> 28\u001B[0m     progress_bar\u001B[38;5;241m.\u001B[39mset_description(\u001B[38;5;124mf\u001B[39m\u001B[38;5;124m\"\u001B[39m\u001B[38;5;124mEpoch \u001B[39m\u001B[38;5;132;01m{\u001B[39;00mepoch\u001B[38;5;132;01m}\u001B[39;00m\u001B[38;5;124m, Loss: \u001B[39m\u001B[38;5;132;01m{\u001B[39;00mnp\u001B[38;5;241m.\u001B[39mmean(losses)\u001B[38;5;132;01m:\u001B[39;00m\u001B[38;5;124m.5f\u001B[39m\u001B[38;5;132;01m}\u001B[39;00m\u001B[38;5;124m, Acc: \u001B[39m\u001B[38;5;132;01m{\u001B[39;00mnp\u001B[38;5;241m.\u001B[39mmean(accs)\u001B[38;5;132;01m:\u001B[39;00m\u001B[38;5;124m.5f\u001B[39m\u001B[38;5;132;01m}\u001B[39;00m\u001B[38;5;124m\"\u001B[39m)\n\u001B[0;32m     30\u001B[0m \u001B[38;5;28;01mreturn\u001B[39;00m np\u001B[38;5;241m.\u001B[39mmean(losses)\n",
      "File \u001B[1;32m<__array_function__ internals>:200\u001B[0m, in \u001B[0;36mmean\u001B[1;34m(*args, **kwargs)\u001B[0m\n",
      "File \u001B[1;32m~\\AppData\\Roaming\\Python\\Python311\\site-packages\\numpy\\core\\fromnumeric.py:3464\u001B[0m, in \u001B[0;36mmean\u001B[1;34m(a, axis, dtype, out, keepdims, where)\u001B[0m\n\u001B[0;32m   3461\u001B[0m     \u001B[38;5;28;01melse\u001B[39;00m:\n\u001B[0;32m   3462\u001B[0m         \u001B[38;5;28;01mreturn\u001B[39;00m mean(axis\u001B[38;5;241m=\u001B[39maxis, dtype\u001B[38;5;241m=\u001B[39mdtype, out\u001B[38;5;241m=\u001B[39mout, \u001B[38;5;241m*\u001B[39m\u001B[38;5;241m*\u001B[39mkwargs)\n\u001B[1;32m-> 3464\u001B[0m \u001B[38;5;28;01mreturn\u001B[39;00m _methods\u001B[38;5;241m.\u001B[39m_mean(a, axis\u001B[38;5;241m=\u001B[39maxis, dtype\u001B[38;5;241m=\u001B[39mdtype,\n\u001B[0;32m   3465\u001B[0m                       out\u001B[38;5;241m=\u001B[39mout, \u001B[38;5;241m*\u001B[39m\u001B[38;5;241m*\u001B[39mkwargs)\n",
      "File \u001B[1;32m~\\AppData\\Roaming\\Python\\Python311\\site-packages\\numpy\\core\\_methods.py:165\u001B[0m, in \u001B[0;36m_mean\u001B[1;34m(a, axis, dtype, out, keepdims, where)\u001B[0m\n\u001B[0;32m    164\u001B[0m \u001B[38;5;28;01mdef\u001B[39;00m \u001B[38;5;21m_mean\u001B[39m(a, axis\u001B[38;5;241m=\u001B[39m\u001B[38;5;28;01mNone\u001B[39;00m, dtype\u001B[38;5;241m=\u001B[39m\u001B[38;5;28;01mNone\u001B[39;00m, out\u001B[38;5;241m=\u001B[39m\u001B[38;5;28;01mNone\u001B[39;00m, keepdims\u001B[38;5;241m=\u001B[39m\u001B[38;5;28;01mFalse\u001B[39;00m, \u001B[38;5;241m*\u001B[39m, where\u001B[38;5;241m=\u001B[39m\u001B[38;5;28;01mTrue\u001B[39;00m):\n\u001B[1;32m--> 165\u001B[0m     arr \u001B[38;5;241m=\u001B[39m asanyarray(a)\n\u001B[0;32m    167\u001B[0m     is_float16_result \u001B[38;5;241m=\u001B[39m \u001B[38;5;28;01mFalse\u001B[39;00m\n\u001B[0;32m    169\u001B[0m     rcount \u001B[38;5;241m=\u001B[39m _count_reduce_items(arr, axis, keepdims\u001B[38;5;241m=\u001B[39mkeepdims, where\u001B[38;5;241m=\u001B[39mwhere)\n",
      "\u001B[1;31mKeyboardInterrupt\u001B[0m: "
     ]
    }
   ],
   "source": [
    "EPOCHS = 50\n",
    "train_losses = []\n",
    "val_losses = []\n",
    "best_loss = float(\"inf\")\n",
    "model.to(device)\n",
    "# TODO почему тут вывод не сохраняется?\n",
    "for epoch in range(EPOCHS):\n",
    "    train_loss = train(epoch)\n",
    "    val_loss = validate(epoch)\n",
    "    train_losses.append(train_loss)\n",
    "    val_losses.append(val_loss)\n",
    "    print()\n",
    "    if val_loss < best_loss:\n",
    "        best_loss = val_loss\n",
    "        torch.save(model.state_dict(), \"./models/best_magnn.pt\")"
   ]
  },
  {
   "cell_type": "code",
   "execution_count": null,
   "metadata": {
    "ExecuteTime": {
     "end_time": "2023-12-12T12:36:33.913126Z",
     "start_time": "2023-12-12T12:36:31.215498200Z"
    }
   },
   "outputs": [
    {
     "ename": "FileNotFoundError",
     "evalue": "[Errno 2] No such file or directory: '../reports/figures/losses.png'",
     "output_type": "error",
     "traceback": [
      "\u001B[1;31m---------------------------------------------------------------------------\u001B[0m",
      "\u001B[1;31mFileNotFoundError\u001B[0m                         Traceback (most recent call last)",
      "Cell \u001B[1;32mIn[25], line 4\u001B[0m\n\u001B[0;32m      2\u001B[0m plt\u001B[38;5;241m.\u001B[39mplot(val_losses, label\u001B[38;5;241m=\u001B[39m\u001B[38;5;124m\"\u001B[39m\u001B[38;5;124mValidation loss\u001B[39m\u001B[38;5;124m\"\u001B[39m)\n\u001B[0;32m      3\u001B[0m plt\u001B[38;5;241m.\u001B[39mlegend()\n\u001B[1;32m----> 4\u001B[0m plt\u001B[38;5;241m.\u001B[39msavefig(\u001B[38;5;124m\"\u001B[39m\u001B[38;5;124m../reports/figures/losses.png\u001B[39m\u001B[38;5;124m\"\u001B[39m)\n\u001B[0;32m      5\u001B[0m plt\u001B[38;5;241m.\u001B[39mshow()\n",
      "File \u001B[1;32m~\\anaconda3\\envs\\DataScience\\Lib\\site-packages\\matplotlib\\pyplot.py:1023\u001B[0m, in \u001B[0;36msavefig\u001B[1;34m(*args, **kwargs)\u001B[0m\n\u001B[0;32m   1020\u001B[0m \u001B[38;5;129m@_copy_docstring_and_deprecators\u001B[39m(Figure\u001B[38;5;241m.\u001B[39msavefig)\n\u001B[0;32m   1021\u001B[0m \u001B[38;5;28;01mdef\u001B[39;00m \u001B[38;5;21msavefig\u001B[39m(\u001B[38;5;241m*\u001B[39margs, \u001B[38;5;241m*\u001B[39m\u001B[38;5;241m*\u001B[39mkwargs):\n\u001B[0;32m   1022\u001B[0m     fig \u001B[38;5;241m=\u001B[39m gcf()\n\u001B[1;32m-> 1023\u001B[0m     res \u001B[38;5;241m=\u001B[39m fig\u001B[38;5;241m.\u001B[39msavefig(\u001B[38;5;241m*\u001B[39margs, \u001B[38;5;241m*\u001B[39m\u001B[38;5;241m*\u001B[39mkwargs)\n\u001B[0;32m   1024\u001B[0m     fig\u001B[38;5;241m.\u001B[39mcanvas\u001B[38;5;241m.\u001B[39mdraw_idle()  \u001B[38;5;66;03m# Need this if 'transparent=True', to reset colors.\u001B[39;00m\n\u001B[0;32m   1025\u001B[0m     \u001B[38;5;28;01mreturn\u001B[39;00m res\n",
      "File \u001B[1;32m~\\anaconda3\\envs\\DataScience\\Lib\\site-packages\\matplotlib\\figure.py:3378\u001B[0m, in \u001B[0;36mFigure.savefig\u001B[1;34m(self, fname, transparent, **kwargs)\u001B[0m\n\u001B[0;32m   3374\u001B[0m     \u001B[38;5;28;01mfor\u001B[39;00m ax \u001B[38;5;129;01min\u001B[39;00m \u001B[38;5;28mself\u001B[39m\u001B[38;5;241m.\u001B[39maxes:\n\u001B[0;32m   3375\u001B[0m         stack\u001B[38;5;241m.\u001B[39menter_context(\n\u001B[0;32m   3376\u001B[0m             ax\u001B[38;5;241m.\u001B[39mpatch\u001B[38;5;241m.\u001B[39m_cm_set(facecolor\u001B[38;5;241m=\u001B[39m\u001B[38;5;124m'\u001B[39m\u001B[38;5;124mnone\u001B[39m\u001B[38;5;124m'\u001B[39m, edgecolor\u001B[38;5;241m=\u001B[39m\u001B[38;5;124m'\u001B[39m\u001B[38;5;124mnone\u001B[39m\u001B[38;5;124m'\u001B[39m))\n\u001B[1;32m-> 3378\u001B[0m \u001B[38;5;28mself\u001B[39m\u001B[38;5;241m.\u001B[39mcanvas\u001B[38;5;241m.\u001B[39mprint_figure(fname, \u001B[38;5;241m*\u001B[39m\u001B[38;5;241m*\u001B[39mkwargs)\n",
      "File \u001B[1;32m~\\anaconda3\\envs\\DataScience\\Lib\\site-packages\\matplotlib\\backend_bases.py:2366\u001B[0m, in \u001B[0;36mFigureCanvasBase.print_figure\u001B[1;34m(self, filename, dpi, facecolor, edgecolor, orientation, format, bbox_inches, pad_inches, bbox_extra_artists, backend, **kwargs)\u001B[0m\n\u001B[0;32m   2362\u001B[0m \u001B[38;5;28;01mtry\u001B[39;00m:\n\u001B[0;32m   2363\u001B[0m     \u001B[38;5;66;03m# _get_renderer may change the figure dpi (as vector formats\u001B[39;00m\n\u001B[0;32m   2364\u001B[0m     \u001B[38;5;66;03m# force the figure dpi to 72), so we need to set it again here.\u001B[39;00m\n\u001B[0;32m   2365\u001B[0m     \u001B[38;5;28;01mwith\u001B[39;00m cbook\u001B[38;5;241m.\u001B[39m_setattr_cm(\u001B[38;5;28mself\u001B[39m\u001B[38;5;241m.\u001B[39mfigure, dpi\u001B[38;5;241m=\u001B[39mdpi):\n\u001B[1;32m-> 2366\u001B[0m         result \u001B[38;5;241m=\u001B[39m print_method(\n\u001B[0;32m   2367\u001B[0m             filename,\n\u001B[0;32m   2368\u001B[0m             facecolor\u001B[38;5;241m=\u001B[39mfacecolor,\n\u001B[0;32m   2369\u001B[0m             edgecolor\u001B[38;5;241m=\u001B[39medgecolor,\n\u001B[0;32m   2370\u001B[0m             orientation\u001B[38;5;241m=\u001B[39morientation,\n\u001B[0;32m   2371\u001B[0m             bbox_inches_restore\u001B[38;5;241m=\u001B[39m_bbox_inches_restore,\n\u001B[0;32m   2372\u001B[0m             \u001B[38;5;241m*\u001B[39m\u001B[38;5;241m*\u001B[39mkwargs)\n\u001B[0;32m   2373\u001B[0m \u001B[38;5;28;01mfinally\u001B[39;00m:\n\u001B[0;32m   2374\u001B[0m     \u001B[38;5;28;01mif\u001B[39;00m bbox_inches \u001B[38;5;129;01mand\u001B[39;00m restore_bbox:\n",
      "File \u001B[1;32m~\\anaconda3\\envs\\DataScience\\Lib\\site-packages\\matplotlib\\backend_bases.py:2232\u001B[0m, in \u001B[0;36mFigureCanvasBase._switch_canvas_and_return_print_method.<locals>.<lambda>\u001B[1;34m(*args, **kwargs)\u001B[0m\n\u001B[0;32m   2228\u001B[0m     optional_kws \u001B[38;5;241m=\u001B[39m {  \u001B[38;5;66;03m# Passed by print_figure for other renderers.\u001B[39;00m\n\u001B[0;32m   2229\u001B[0m         \u001B[38;5;124m\"\u001B[39m\u001B[38;5;124mdpi\u001B[39m\u001B[38;5;124m\"\u001B[39m, \u001B[38;5;124m\"\u001B[39m\u001B[38;5;124mfacecolor\u001B[39m\u001B[38;5;124m\"\u001B[39m, \u001B[38;5;124m\"\u001B[39m\u001B[38;5;124medgecolor\u001B[39m\u001B[38;5;124m\"\u001B[39m, \u001B[38;5;124m\"\u001B[39m\u001B[38;5;124morientation\u001B[39m\u001B[38;5;124m\"\u001B[39m,\n\u001B[0;32m   2230\u001B[0m         \u001B[38;5;124m\"\u001B[39m\u001B[38;5;124mbbox_inches_restore\u001B[39m\u001B[38;5;124m\"\u001B[39m}\n\u001B[0;32m   2231\u001B[0m     skip \u001B[38;5;241m=\u001B[39m optional_kws \u001B[38;5;241m-\u001B[39m {\u001B[38;5;241m*\u001B[39minspect\u001B[38;5;241m.\u001B[39msignature(meth)\u001B[38;5;241m.\u001B[39mparameters}\n\u001B[1;32m-> 2232\u001B[0m     print_method \u001B[38;5;241m=\u001B[39m functools\u001B[38;5;241m.\u001B[39mwraps(meth)(\u001B[38;5;28;01mlambda\u001B[39;00m \u001B[38;5;241m*\u001B[39margs, \u001B[38;5;241m*\u001B[39m\u001B[38;5;241m*\u001B[39mkwargs: meth(\n\u001B[0;32m   2233\u001B[0m         \u001B[38;5;241m*\u001B[39margs, \u001B[38;5;241m*\u001B[39m\u001B[38;5;241m*\u001B[39m{k: v \u001B[38;5;28;01mfor\u001B[39;00m k, v \u001B[38;5;129;01min\u001B[39;00m kwargs\u001B[38;5;241m.\u001B[39mitems() \u001B[38;5;28;01mif\u001B[39;00m k \u001B[38;5;129;01mnot\u001B[39;00m \u001B[38;5;129;01min\u001B[39;00m skip}))\n\u001B[0;32m   2234\u001B[0m \u001B[38;5;28;01melse\u001B[39;00m:  \u001B[38;5;66;03m# Let third-parties do as they see fit.\u001B[39;00m\n\u001B[0;32m   2235\u001B[0m     print_method \u001B[38;5;241m=\u001B[39m meth\n",
      "File \u001B[1;32m~\\anaconda3\\envs\\DataScience\\Lib\\site-packages\\matplotlib\\backends\\backend_agg.py:509\u001B[0m, in \u001B[0;36mFigureCanvasAgg.print_png\u001B[1;34m(self, filename_or_obj, metadata, pil_kwargs)\u001B[0m\n\u001B[0;32m    462\u001B[0m \u001B[38;5;28;01mdef\u001B[39;00m \u001B[38;5;21mprint_png\u001B[39m(\u001B[38;5;28mself\u001B[39m, filename_or_obj, \u001B[38;5;241m*\u001B[39m, metadata\u001B[38;5;241m=\u001B[39m\u001B[38;5;28;01mNone\u001B[39;00m, pil_kwargs\u001B[38;5;241m=\u001B[39m\u001B[38;5;28;01mNone\u001B[39;00m):\n\u001B[0;32m    463\u001B[0m \u001B[38;5;250m    \u001B[39m\u001B[38;5;124;03m\"\"\"\u001B[39;00m\n\u001B[0;32m    464\u001B[0m \u001B[38;5;124;03m    Write the figure to a PNG file.\u001B[39;00m\n\u001B[0;32m    465\u001B[0m \n\u001B[1;32m   (...)\u001B[0m\n\u001B[0;32m    507\u001B[0m \u001B[38;5;124;03m        *metadata*, including the default 'Software' key.\u001B[39;00m\n\u001B[0;32m    508\u001B[0m \u001B[38;5;124;03m    \"\"\"\u001B[39;00m\n\u001B[1;32m--> 509\u001B[0m     \u001B[38;5;28mself\u001B[39m\u001B[38;5;241m.\u001B[39m_print_pil(filename_or_obj, \u001B[38;5;124m\"\u001B[39m\u001B[38;5;124mpng\u001B[39m\u001B[38;5;124m\"\u001B[39m, pil_kwargs, metadata)\n",
      "File \u001B[1;32m~\\anaconda3\\envs\\DataScience\\Lib\\site-packages\\matplotlib\\backends\\backend_agg.py:458\u001B[0m, in \u001B[0;36mFigureCanvasAgg._print_pil\u001B[1;34m(self, filename_or_obj, fmt, pil_kwargs, metadata)\u001B[0m\n\u001B[0;32m    453\u001B[0m \u001B[38;5;250m\u001B[39m\u001B[38;5;124;03m\"\"\"\u001B[39;00m\n\u001B[0;32m    454\u001B[0m \u001B[38;5;124;03mDraw the canvas, then save it using `.image.imsave` (to which\u001B[39;00m\n\u001B[0;32m    455\u001B[0m \u001B[38;5;124;03m*pil_kwargs* and *metadata* are forwarded).\u001B[39;00m\n\u001B[0;32m    456\u001B[0m \u001B[38;5;124;03m\"\"\"\u001B[39;00m\n\u001B[0;32m    457\u001B[0m FigureCanvasAgg\u001B[38;5;241m.\u001B[39mdraw(\u001B[38;5;28mself\u001B[39m)\n\u001B[1;32m--> 458\u001B[0m mpl\u001B[38;5;241m.\u001B[39mimage\u001B[38;5;241m.\u001B[39mimsave(\n\u001B[0;32m    459\u001B[0m     filename_or_obj, \u001B[38;5;28mself\u001B[39m\u001B[38;5;241m.\u001B[39mbuffer_rgba(), \u001B[38;5;28mformat\u001B[39m\u001B[38;5;241m=\u001B[39mfmt, origin\u001B[38;5;241m=\u001B[39m\u001B[38;5;124m\"\u001B[39m\u001B[38;5;124mupper\u001B[39m\u001B[38;5;124m\"\u001B[39m,\n\u001B[0;32m    460\u001B[0m     dpi\u001B[38;5;241m=\u001B[39m\u001B[38;5;28mself\u001B[39m\u001B[38;5;241m.\u001B[39mfigure\u001B[38;5;241m.\u001B[39mdpi, metadata\u001B[38;5;241m=\u001B[39mmetadata, pil_kwargs\u001B[38;5;241m=\u001B[39mpil_kwargs)\n",
      "File \u001B[1;32m~\\anaconda3\\envs\\DataScience\\Lib\\site-packages\\matplotlib\\image.py:1689\u001B[0m, in \u001B[0;36mimsave\u001B[1;34m(fname, arr, vmin, vmax, cmap, format, origin, dpi, metadata, pil_kwargs)\u001B[0m\n\u001B[0;32m   1687\u001B[0m pil_kwargs\u001B[38;5;241m.\u001B[39msetdefault(\u001B[38;5;124m\"\u001B[39m\u001B[38;5;124mformat\u001B[39m\u001B[38;5;124m\"\u001B[39m, \u001B[38;5;28mformat\u001B[39m)\n\u001B[0;32m   1688\u001B[0m pil_kwargs\u001B[38;5;241m.\u001B[39msetdefault(\u001B[38;5;124m\"\u001B[39m\u001B[38;5;124mdpi\u001B[39m\u001B[38;5;124m\"\u001B[39m, (dpi, dpi))\n\u001B[1;32m-> 1689\u001B[0m image\u001B[38;5;241m.\u001B[39msave(fname, \u001B[38;5;241m*\u001B[39m\u001B[38;5;241m*\u001B[39mpil_kwargs)\n",
      "File \u001B[1;32m~\\anaconda3\\envs\\DataScience\\Lib\\site-packages\\PIL\\Image.py:2428\u001B[0m, in \u001B[0;36mImage.save\u001B[1;34m(self, fp, format, **params)\u001B[0m\n\u001B[0;32m   2426\u001B[0m         fp \u001B[38;5;241m=\u001B[39m builtins\u001B[38;5;241m.\u001B[39mopen(filename, \u001B[38;5;124m\"\u001B[39m\u001B[38;5;124mr+b\u001B[39m\u001B[38;5;124m\"\u001B[39m)\n\u001B[0;32m   2427\u001B[0m     \u001B[38;5;28;01melse\u001B[39;00m:\n\u001B[1;32m-> 2428\u001B[0m         fp \u001B[38;5;241m=\u001B[39m builtins\u001B[38;5;241m.\u001B[39mopen(filename, \u001B[38;5;124m\"\u001B[39m\u001B[38;5;124mw+b\u001B[39m\u001B[38;5;124m\"\u001B[39m)\n\u001B[0;32m   2430\u001B[0m \u001B[38;5;28;01mtry\u001B[39;00m:\n\u001B[0;32m   2431\u001B[0m     save_handler(\u001B[38;5;28mself\u001B[39m, fp, filename)\n",
      "\u001B[1;31mFileNotFoundError\u001B[0m: [Errno 2] No such file or directory: '../reports/figures/losses.png'"
     ]
    },
    {
     "data": {
      "image/png": "[encoded data removed]",
      "text/plain": [
       "<Figure size 640x480 with 1 Axes>"
      ]
     },
     "metadata": {},
     "output_type": "display_data"
    }
   ],
   "source": [
    "plt.plot(train_losses, label=\"Train loss\")\n",
    "plt.plot(val_losses, label=\"Validation loss\")\n",
    "plt.legend()\n",
    "plt.savefig(\"figures/losses.png\")\n",
    "plt.show()"
   ]
  },
  {
   "cell_type": "markdown",
   "source": [
    "Well done! The traing is over and the result is stored in the file. Now let's check how it works."
   ],
   "metadata": {
    "collapsed": false
   }
  },
  {
   "cell_type": "code",
   "execution_count": null,
   "metadata": {
    "ExecuteTime": {
     "start_time": "2023-12-12T12:38:03.763140200Z"
    }
   },
   "outputs": [],
   "source": [
    "model = MAGNN(num_user_features, num_movie_features, 128, 128, 8, 0.2, BATCH_SIZE)\n",
    "model.load_state_dict(torch.load(\"./models/best_magnn.pt\"))"
   ]
  },
  {
   "cell_type": "code",
   "execution_count": null,
   "metadata": {
    "ExecuteTime": {
     "start_time": "2023-12-12T12:38:03.764137800Z"
    }
   },
   "outputs": [],
   "source": [
    "model.to(device)\n",
    "model.eval()\n",
    "\n",
    "maps = []\n",
    "accs = []\n",
    "rocs = []\n",
    "\n",
    "for batch in tqdm(test_loader):\n",
    "    edge, label, umetapath1, umetapath2, umetapath3, mmetapath1, mmetapath2, mmetapath3 = batch\n",
    "    edge, label, umetapath1, umetapath2, umetapath3, mmetapath1, mmetapath2, mmetapath3 = \\\n",
    "        edge.to(device), label.to(device), umetapath1.to(device), umetapath2.to(device), umetapath3.to(\n",
    "            device), mmetapath1.to(device), mmetapath2.to(device), mmetapath3.to(device)\n",
    "\n",
    "    out = model(edge, umetapath1, umetapath2, umetapath3, mmetapath1, mmetapath2, mmetapath3)\n",
    "    pred = (out > 0.5)\n",
    "    acc = (pred == label.reshape(-1, 1)).sum() / BATCH_SIZE\n",
    "\n",
    "    accs.append(acc.cpu())\n",
    "    maps.append(average_precision_score(label.reshape(-1, 1).cpu().detach().numpy(), out.cpu().detach().numpy()))\n",
    "    rocs.append(roc_auc_score(label.reshape(-1, 1).cpu().detach().numpy(), out.cpu().detach().numpy()))\n",
    "\n",
    "print(f\"mAP: {np.mean(maps)}\")\n",
    "print(f\"Accuracy: {np.mean(accs)}\")\n",
    "print(f\"ROC-AUC score: {np.mean(rocs)}\")"
   ]
  },
  {
   "cell_type": "markdown",
   "source": [
    "That's it! Try to use your data and find some music for you own:)\n",
    "If you have any questions, or you want to add something to this tutorial, don't be afraid to text us!"
   ],
   "metadata": {
    "collapsed": false
   }
  }
 ],
 "metadata": {
  "kernelspec": {
   "display_name": "Python 3",
   "language": "python",
   "name": "python3"
  },
  "language_info": {
   "codemirror_mode": {
    "name": "ipython",
    "version": 3
   },
   "file_extension": ".py",
   "mimetype": "text/x-python",
   "name": "python",
   "nbconvert_exporter": "python",
   "pygments_lexer": "ipython3",
   "version": "3.11.4"
  }
 },
 "nbformat": 4,
 "nbformat_minor": 2
}
